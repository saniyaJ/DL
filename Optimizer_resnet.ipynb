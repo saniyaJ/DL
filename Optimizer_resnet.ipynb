{
  "nbformat": 4,
  "nbformat_minor": 0,
  "metadata": {
    "colab": {
      "provenance": []
    },
    "kernelspec": {
      "name": "python3",
      "display_name": "Python 3"
    },
    "language_info": {
      "name": "python"
    },
    "accelerator": "GPU",
    "gpuClass": "standard"
  },
  "cells": [
    {
      "cell_type": "markdown",
      "source": [
        "Use ResNet18 pre-trained on ImageNet (Pre-trained models can be found online). Finetune the\n",
        "model on X dataset for classification task and plot curves for training loss and training accuracy.\n",
        "Report the final top-5 test accuracy. Perform the above task with any 3 optimizers from the\n",
        "following list.\n",
        "1. Adam\n",
        "2. Adagrad\n",
        "3. Adadelta\n",
        "4. RMSprop\n",
        "\n",
        "X = STL 10, if last digit of your roll no. is odd"
      ],
      "metadata": {
        "id": "0fr8YlbSPEuE"
      }
    },
    {
      "cell_type": "code",
      "source": [
        "import torch\n",
        "import torchvision.models as models\n",
        "\n",
        "num_classes = 100  \n",
        "resnet = models.resnet18(pretrained=True)\n",
        "num_ftrs = resnet.fc.in_features\n",
        "resnet.fc = torch.nn.Linear(num_ftrs, num_classes)"
      ],
      "metadata": {
        "id": "vr2dMhJ7PIvP",
        "colab": {
          "base_uri": "https://localhost:8080/"
        },
        "outputId": "def8fe0b-f4d4-4e5b-9700-c890c74ef789"
      },
      "execution_count": null,
      "outputs": [
        {
          "output_type": "stream",
          "name": "stderr",
          "text": [
            "/usr/local/lib/python3.9/dist-packages/torchvision/models/_utils.py:208: UserWarning: The parameter 'pretrained' is deprecated since 0.13 and may be removed in the future, please use 'weights' instead.\n",
            "  warnings.warn(\n",
            "/usr/local/lib/python3.9/dist-packages/torchvision/models/_utils.py:223: UserWarning: Arguments other than a weight enum or `None` for 'weights' are deprecated since 0.13 and may be removed in the future. The current behavior is equivalent to passing `weights=ResNet18_Weights.IMAGENET1K_V1`. You can also use `weights=ResNet18_Weights.DEFAULT` to get the most up-to-date weights.\n",
            "  warnings.warn(msg)\n",
            "Downloading: \"https://download.pytorch.org/models/resnet18-f37072fd.pth\" to /root/.cache/torch/hub/checkpoints/resnet18-f37072fd.pth\n",
            "100%|██████████| 44.7M/44.7M [00:00<00:00, 129MB/s]\n"
          ]
        }
      ]
    },
    {
      "cell_type": "code",
      "source": [
        "resnet.fc.in_features"
      ],
      "metadata": {
        "colab": {
          "base_uri": "https://localhost:8080/"
        },
        "id": "btYT47Szoz_m",
        "outputId": "5f45a0f1-7a9b-451f-ec93-7e9c8f23acfc"
      },
      "execution_count": null,
      "outputs": [
        {
          "output_type": "execute_result",
          "data": {
            "text/plain": [
              "512"
            ]
          },
          "metadata": {},
          "execution_count": 4
        }
      ]
    },
    {
      "cell_type": "code",
      "source": [
        "from torchvision import transforms\n",
        "from torchvision import datasets\n",
        "train_transforms = transforms.Compose([\n",
        "    transforms.RandomCrop(32, padding=4),\n",
        "    transforms.RandomHorizontalFlip(),\n",
        "    transforms.ToTensor(),\n",
        "    transforms.Normalize((0.5, 0.5, 0.5), (0.5, 0.5, 0.5))\n",
        "])\n",
        "\n",
        "test_transforms = transforms.Compose([\n",
        "    transforms.ToTensor(),\n",
        "    transforms.Normalize((0.5, 0.5, 0.5), (0.5, 0.5, 0.5))\n",
        "])\n",
        "\n",
        "\n",
        "train_data = datasets.STL10(root='./data', split='train', download=True, transform=train_transforms)\n",
        "test_data = datasets.STL10(root='./data', split='test', download=True, transform=test_transforms)\n",
        "\n",
        "\n",
        "train_size = int(0.8 * len(train_data))\n",
        "val_size = len(train_data) - train_size\n",
        "train_dataset, val_dataset = torch.utils.data.random_split(train_data, [train_size, val_size])\n",
        "\n",
        "device = torch.device(\"cuda\" if torch.cuda.is_available() else \"cpu\")\n",
        "resnet.to(device)\n",
        "\n",
        "train_loader = torch.utils.data.DataLoader(train_dataset, batch_size=128, shuffle=True, num_workers=2)\n",
        "val_loader = torch.utils.data.DataLoader(val_dataset, batch_size=128, shuffle=False, num_workers=2)\n"
      ],
      "metadata": {
        "colab": {
          "base_uri": "https://localhost:8080/"
        },
        "id": "WUWXDLoGRUAJ",
        "outputId": "548c9d74-c4cc-4f0f-e062-001a48adcb18"
      },
      "execution_count": null,
      "outputs": [
        {
          "output_type": "stream",
          "name": "stdout",
          "text": [
            "Downloading http://ai.stanford.edu/~acoates/stl10/stl10_binary.tar.gz to ./data/stl10_binary.tar.gz\n"
          ]
        },
        {
          "output_type": "stream",
          "name": "stderr",
          "text": [
            "100%|██████████| 2640397119/2640397119 [02:27<00:00, 17911710.08it/s]\n"
          ]
        },
        {
          "output_type": "stream",
          "name": "stdout",
          "text": [
            "Extracting ./data/stl10_binary.tar.gz to ./data\n",
            "Files already downloaded and verified\n"
          ]
        }
      ]
    },
    {
      "cell_type": "markdown",
      "source": [
        "ADAM Optimizer"
      ],
      "metadata": {
        "id": "a9VVA24bP1xH"
      }
    },
    {
      "cell_type": "code",
      "source": [
        "train_loader = torch.utils.data.DataLoader(train_dataset, batch_size=128, shuffle=True, num_workers=2)\n",
        "val_loader = torch.utils.data.DataLoader(val_dataset, batch_size=128, shuffle=False, num_workers=2)\n",
        "for i, data in enumerate(train_loader, 0):\n",
        "        inputs, labels = data[0].to(device), data[1].to(device)\n",
        "        break\n",
        "print(inputs.shape)"
      ],
      "metadata": {
        "colab": {
          "base_uri": "https://localhost:8080/"
        },
        "id": "4anRrQOPohsi",
        "outputId": "933faf17-f53d-41a8-cbbf-fd2533241d6a"
      },
      "execution_count": null,
      "outputs": [
        {
          "output_type": "stream",
          "name": "stdout",
          "text": [
            "torch.Size([128, 3, 32, 32])\n"
          ]
        }
      ]
    },
    {
      "cell_type": "code",
      "source": [
        "criterion = torch.nn.CrossEntropyLoss()\n",
        "optimizer = torch.optim.Adam(resnet.parameters(), lr=0.001, betas=(0.9, 0.999), eps=1e-08, weight_decay=0.0)"
      ],
      "metadata": {
        "id": "dAoygZA9RU6h"
      },
      "execution_count": null,
      "outputs": []
    },
    {
      "cell_type": "code",
      "source": [
        "device = torch.device(\"cuda\" if torch.cuda.is_available() else \"cpu\")\n",
        "resnet.to(device)\n",
        "\n",
        "train_loader = torch.utils.data.DataLoader(train_dataset, batch_size=128, shuffle=True, num_workers=2)\n",
        "val_loader = torch.utils.data.DataLoader(val_dataset, batch_size=128, shuffle=False, num_workers=2)\n",
        "\n",
        "num_epochs = 100\n",
        "train_losses = []\n",
        "val_losses = []\n",
        "train_accs = []\n",
        "val_accs = []\n",
        "\n",
        "for epoch in range(num_epochs):\n",
        "    train_loss = 0.0\n",
        "    val_loss = 0.0\n",
        "    train_total = 0\n",
        "    val_total = 0\n",
        "    train_correct = 0\n",
        "    val_correct = 0\n",
        "    \n",
        "    resnet.train()\n",
        "    for i, data in enumerate(train_loader, 0):\n",
        "        inputs, labels = data[0].to(device), data[1].to(device)\n",
        "        optimizer.zero_grad()\n",
        "        outputs = resnet(inputs)\n",
        "        \n",
        "        loss = criterion(outputs, labels)\n",
        "        loss.backward()\n",
        "        optimizer.step()\n",
        "        train_loss += loss.item()\n",
        "        _, predicted = torch.max(outputs.data, 1)\n",
        "        train_total += labels.size(0)\n",
        "        train_correct += (predicted == labels).sum().item()\n",
        "        train_losses.append(train_loss/len(train_loader))\n",
        "\n",
        "\n"
      ],
      "metadata": {
        "id": "cBCH5gMcRd1m"
      },
      "execution_count": null,
      "outputs": []
    },
    {
      "cell_type": "code",
      "source": [
        "resnet.eval()\n",
        "with torch.no_grad():\n",
        "    for i, data in enumerate(val_loader, 0):\n",
        "        inputs, labels = data[0].to(device), data[1].to(device)\n",
        "        outputs = resnet(inputs)\n",
        "        loss = criterion(outputs, labels)\n",
        "        val_loss += loss.item()\n",
        "        _, predicted = torch.max(outputs.data, 1)\n",
        "        val_total += labels.size(0)\n",
        "        val_correct += (predicted == labels).sum().item()\n",
        "\n",
        "        epoch_train_loss = train_loss / len(train_loader)\n",
        "        epoch_val_loss = val_loss / len(val_loader)\n",
        "        epoch_train_acc = 100 * train_correct / train_total\n",
        "        epoch_val_acc = 100 * val_correct / val_total\n",
        "       \n",
        "        val_losses.append(epoch_val_loss)\n",
        "        train_accs.append(epoch_train_acc)\n",
        "        val_accs.append(epoch_val_acc)\n",
        "\n",
        "        print(f'Epoch {epoch+1}/{num_epochs}, '\n",
        "              f'Training Loss: {epoch_train_loss:.4f}, '\n",
        "              f'Validation Loss: {epoch_val_loss:.4f}, '\n",
        "              f'Training Accuracy: {epoch_train_acc:.2f}%, '\n",
        "              f'Validation Accuracy: {epoch_val_acc:.2f}%')\n"
      ],
      "metadata": {
        "id": "GKBfuLaORliQ",
        "colab": {
          "base_uri": "https://localhost:8080/"
        },
        "outputId": "eed5a067-36b3-4456-ded5-2e5cc1961370"
      },
      "execution_count": null,
      "outputs": [
        {
          "output_type": "stream",
          "name": "stdout",
          "text": [
            "Epoch 100/100, Training Loss: 5.2474, Validation Loss: 0.6541, Training Accuracy: 0.88%, Validation Accuracy: 0.78%\n",
            "Epoch 100/100, Training Loss: 5.2474, Validation Loss: 1.3178, Training Accuracy: 0.88%, Validation Accuracy: 1.56%\n",
            "Epoch 100/100, Training Loss: 5.2474, Validation Loss: 1.9773, Training Accuracy: 0.88%, Validation Accuracy: 1.30%\n",
            "Epoch 100/100, Training Loss: 5.2474, Validation Loss: 2.6307, Training Accuracy: 0.88%, Validation Accuracy: 1.17%\n",
            "Epoch 100/100, Training Loss: 5.2474, Validation Loss: 3.2915, Training Accuracy: 0.88%, Validation Accuracy: 0.94%\n",
            "Epoch 100/100, Training Loss: 5.2474, Validation Loss: 3.9635, Training Accuracy: 0.88%, Validation Accuracy: 0.78%\n",
            "Epoch 100/100, Training Loss: 5.2474, Validation Loss: 4.6163, Training Accuracy: 0.88%, Validation Accuracy: 0.89%\n",
            "Epoch 100/100, Training Loss: 5.2474, Validation Loss: 5.2844, Training Accuracy: 0.88%, Validation Accuracy: 0.80%\n"
          ]
        }
      ]
    },
    {
      "cell_type": "code",
      "source": [
        "\n",
        "import matplotlib.pyplot as plt\n",
        "\n",
        "plt.plot(train_losses, label='Training Loss')\n",
        "plt.plot(val_losses, label='Validation Loss')\n",
        "plt.legend()\n",
        "plt.show()\n",
        "\n",
        "plt.plot(train_accs, label='Training Accuracy')\n",
        "plt.plot(val_accs, label='Validation Accuracy')\n",
        "plt.legend()\n",
        "plt.show()"
      ],
      "metadata": {
        "id": "vTbZsAuVRnY0",
        "colab": {
          "base_uri": "https://localhost:8080/",
          "height": 513
        },
        "outputId": "685c4a45-81d0-44d2-d5f8-885609a5be27"
      },
      "execution_count": null,
      "outputs": [
        {
          "output_type": "display_data",
          "data": {
            "text/plain": [
              "<Figure size 432x288 with 1 Axes>"
            ],
            "image/png": "[encoded data removed]"
          },
          "metadata": {
            "needs_background": "light"
          }
        },
        {
          "output_type": "display_data",
          "data": {
            "text/plain": [
              "<Figure size 432x288 with 1 Axes>"
            ],
            "image/png": "[encoded data removed]"
          },
          "metadata": {
            "needs_background": "light"
          }
        }
      ]
    },
    {
      "cell_type": "code",
      "source": [
        "optimizer = torch.optim.Adam(resnet.parameters(), lr=0.003, betas=(0.8, 0.987), eps=1e-08, weight_decay=0.0)"
      ],
      "metadata": {
        "id": "Ruzk-r3-zZ7v"
      },
      "execution_count": null,
      "outputs": []
    },
    {
      "cell_type": "code",
      "source": [
        "train_loader = torch.utils.data.DataLoader(train_dataset, batch_size=128, shuffle=True, num_workers=2)\n",
        "val_loader = torch.utils.data.DataLoader(val_dataset, batch_size=128, shuffle=False, num_workers=2)\n",
        "\n",
        "num_epochs = 20\n",
        "train_losses = []\n",
        "val_losses = []\n",
        "train_accs = []\n",
        "val_accs = []\n",
        "\n",
        "for epoch in range(num_epochs):\n",
        "    train_loss = 0.0\n",
        "    val_loss = 0.0\n",
        "    train_total = 0\n",
        "    val_total = 0\n",
        "    train_correct = 0\n",
        "    val_correct = 0\n",
        "    \n",
        "    resnet.train()\n",
        "    for i, data in enumerate(train_loader, 0):\n",
        "        inputs, labels = data[0].to(device), data[1].to(device)\n",
        "        optimizer.zero_grad()\n",
        "        outputs = resnet(inputs)\n",
        "        \n",
        "        loss = criterion(outputs, labels)\n",
        "        loss.backward()\n",
        "        optimizer.step()\n",
        "        train_loss += loss.item()\n",
        "        _, predicted = torch.max(outputs.data, 1)\n",
        "        train_total += labels.size(0)\n",
        "        train_correct += (predicted == labels).sum().item()\n",
        "        train_losses.append(train_loss/len(train_loader))\n",
        "        train_accs.append(train_correct/train_total)"
      ],
      "metadata": {
        "id": "a5iwTVFJzfiM"
      },
      "execution_count": null,
      "outputs": []
    },
    {
      "cell_type": "code",
      "source": [
        "resnet.eval()\n",
        "with torch.no_grad():\n",
        "    for i, data in enumerate(val_loader, 0):\n",
        "        inputs, labels = data[0].to(device), data[1].to(device)\n",
        "        outputs = resnet(inputs)\n",
        "        loss = criterion(outputs, labels)\n",
        "        val_loss += loss.item()\n",
        "        _, predicted = torch.max(outputs.data, 1)\n",
        "        val_total += labels.size(0)\n",
        "        val_correct += (predicted == labels).sum().item()\n",
        "\n",
        "        epoch_train_loss = train_loss / len(train_loader)\n",
        "        epoch_val_loss = val_loss / len(val_loader)\n",
        "        epoch_train_acc = 100 * train_correct / train_total\n",
        "        epoch_val_acc = 100 * val_correct / val_total\n",
        "       \n",
        "        val_losses.append(epoch_val_loss)\n",
        "        \n",
        "        val_accs.append(epoch_val_acc)\n",
        "\n",
        "        print(f'Epoch {epoch+1}/{num_epochs}, '\n",
        "              f'Training Loss: {epoch_train_loss:.4f}, '\n",
        "              f'Validation Loss: {epoch_val_loss:.4f}, '\n",
        "              f'Training Accuracy: {epoch_train_acc:.2f}%, '\n",
        "              f'Validation Accuracy: {epoch_val_acc:.2f}%')\n"
      ],
      "metadata": {
        "colab": {
          "base_uri": "https://localhost:8080/"
        },
        "id": "ka4UhcTFzh2y",
        "outputId": "58e3a9ad-8498-4b80-a061-b721bb31c0ce"
      },
      "execution_count": null,
      "outputs": [
        {
          "output_type": "stream",
          "name": "stdout",
          "text": [
            "Epoch 20/20, Training Loss: 0.8792, Validation Loss: 0.0262, Training Accuracy: 73.19%, Validation Accuracy: 50.78%\n",
            "Epoch 20/20, Training Loss: 0.8792, Validation Loss: 0.0535, Training Accuracy: 73.19%, Validation Accuracy: 52.34%\n",
            "Epoch 20/20, Training Loss: 0.8792, Validation Loss: 0.0792, Training Accuracy: 73.19%, Validation Accuracy: 52.60%\n",
            "Epoch 20/20, Training Loss: 0.8792, Validation Loss: 0.1131, Training Accuracy: 73.19%, Validation Accuracy: 51.17%\n",
            "Epoch 20/20, Training Loss: 0.8792, Validation Loss: 0.1415, Training Accuracy: 73.19%, Validation Accuracy: 50.62%\n",
            "Epoch 20/20, Training Loss: 0.8792, Validation Loss: 0.1662, Training Accuracy: 73.19%, Validation Accuracy: 51.56%\n",
            "Epoch 20/20, Training Loss: 0.8792, Validation Loss: 0.1940, Training Accuracy: 73.19%, Validation Accuracy: 52.01%\n",
            "Epoch 20/20, Training Loss: 0.8792, Validation Loss: 0.2219, Training Accuracy: 73.19%, Validation Accuracy: 52.44%\n",
            "Epoch 20/20, Training Loss: 0.8792, Validation Loss: 0.2505, Training Accuracy: 73.19%, Validation Accuracy: 52.17%\n",
            "Epoch 20/20, Training Loss: 0.8792, Validation Loss: 0.2832, Training Accuracy: 73.19%, Validation Accuracy: 51.17%\n",
            "Epoch 20/20, Training Loss: 0.8792, Validation Loss: 0.3076, Training Accuracy: 73.19%, Validation Accuracy: 51.70%\n",
            "Epoch 20/20, Training Loss: 0.8792, Validation Loss: 0.3392, Training Accuracy: 73.19%, Validation Accuracy: 51.50%\n",
            "Epoch 20/20, Training Loss: 0.8792, Validation Loss: 0.3651, Training Accuracy: 73.19%, Validation Accuracy: 51.14%\n",
            "Epoch 20/20, Training Loss: 0.8792, Validation Loss: 0.3960, Training Accuracy: 73.19%, Validation Accuracy: 51.23%\n",
            "Epoch 20/20, Training Loss: 0.8792, Validation Loss: 0.4185, Training Accuracy: 73.19%, Validation Accuracy: 51.72%\n",
            "Epoch 20/20, Training Loss: 0.8792, Validation Loss: 0.4469, Training Accuracy: 73.19%, Validation Accuracy: 51.81%\n",
            "Epoch 20/20, Training Loss: 0.8792, Validation Loss: 0.4690, Training Accuracy: 73.19%, Validation Accuracy: 52.30%\n",
            "Epoch 20/20, Training Loss: 0.8792, Validation Loss: 0.4954, Training Accuracy: 73.19%, Validation Accuracy: 52.26%\n",
            "Epoch 20/20, Training Loss: 0.8792, Validation Loss: 0.5184, Training Accuracy: 73.19%, Validation Accuracy: 52.55%\n",
            "Epoch 20/20, Training Loss: 0.8792, Validation Loss: 0.5457, Training Accuracy: 73.19%, Validation Accuracy: 52.42%\n",
            "Epoch 20/20, Training Loss: 0.8792, Validation Loss: 0.5731, Training Accuracy: 73.19%, Validation Accuracy: 52.31%\n",
            "Epoch 20/20, Training Loss: 0.8792, Validation Loss: 0.5987, Training Accuracy: 73.19%, Validation Accuracy: 52.27%\n",
            "Epoch 20/20, Training Loss: 0.8792, Validation Loss: 0.6303, Training Accuracy: 73.19%, Validation Accuracy: 52.11%\n",
            "Epoch 20/20, Training Loss: 0.8792, Validation Loss: 0.6623, Training Accuracy: 73.19%, Validation Accuracy: 52.05%\n",
            "Epoch 20/20, Training Loss: 0.8792, Validation Loss: 0.6865, Training Accuracy: 73.19%, Validation Accuracy: 52.09%\n",
            "Epoch 20/20, Training Loss: 0.8792, Validation Loss: 0.7129, Training Accuracy: 73.19%, Validation Accuracy: 52.22%\n",
            "Epoch 20/20, Training Loss: 0.8792, Validation Loss: 0.7437, Training Accuracy: 73.19%, Validation Accuracy: 52.20%\n",
            "Epoch 20/20, Training Loss: 0.8792, Validation Loss: 0.7727, Training Accuracy: 73.19%, Validation Accuracy: 52.04%\n",
            "Epoch 20/20, Training Loss: 0.8792, Validation Loss: 0.7959, Training Accuracy: 73.19%, Validation Accuracy: 52.24%\n",
            "Epoch 20/20, Training Loss: 0.8792, Validation Loss: 0.8286, Training Accuracy: 73.19%, Validation Accuracy: 52.01%\n",
            "Epoch 20/20, Training Loss: 0.8792, Validation Loss: 0.8621, Training Accuracy: 73.19%, Validation Accuracy: 51.79%\n",
            "Epoch 20/20, Training Loss: 0.8792, Validation Loss: 0.8891, Training Accuracy: 73.19%, Validation Accuracy: 51.78%\n",
            "Epoch 20/20, Training Loss: 0.8792, Validation Loss: 0.9212, Training Accuracy: 73.19%, Validation Accuracy: 51.59%\n",
            "Epoch 20/20, Training Loss: 0.8792, Validation Loss: 0.9460, Training Accuracy: 73.19%, Validation Accuracy: 51.54%\n",
            "Epoch 20/20, Training Loss: 0.8792, Validation Loss: 0.9769, Training Accuracy: 73.19%, Validation Accuracy: 51.50%\n",
            "Epoch 20/20, Training Loss: 0.8792, Validation Loss: 1.0076, Training Accuracy: 73.19%, Validation Accuracy: 51.37%\n",
            "Epoch 20/20, Training Loss: 0.8792, Validation Loss: 1.0372, Training Accuracy: 73.19%, Validation Accuracy: 51.41%\n",
            "Epoch 20/20, Training Loss: 0.8792, Validation Loss: 1.0632, Training Accuracy: 73.19%, Validation Accuracy: 51.32%\n",
            "Epoch 20/20, Training Loss: 0.8792, Validation Loss: 1.0855, Training Accuracy: 73.19%, Validation Accuracy: 51.40%\n",
            "Epoch 20/20, Training Loss: 0.8792, Validation Loss: 1.1132, Training Accuracy: 73.19%, Validation Accuracy: 51.39%\n",
            "Epoch 20/20, Training Loss: 0.8792, Validation Loss: 1.1485, Training Accuracy: 73.19%, Validation Accuracy: 51.14%\n",
            "Epoch 20/20, Training Loss: 0.8792, Validation Loss: 1.1723, Training Accuracy: 73.19%, Validation Accuracy: 51.32%\n",
            "Epoch 20/20, Training Loss: 0.8792, Validation Loss: 1.1984, Training Accuracy: 73.19%, Validation Accuracy: 51.29%\n",
            "Epoch 20/20, Training Loss: 0.8792, Validation Loss: 1.2282, Training Accuracy: 73.19%, Validation Accuracy: 51.17%\n",
            "Epoch 20/20, Training Loss: 0.8792, Validation Loss: 1.2584, Training Accuracy: 73.19%, Validation Accuracy: 51.16%\n",
            "Epoch 20/20, Training Loss: 0.8792, Validation Loss: 1.2857, Training Accuracy: 73.19%, Validation Accuracy: 51.29%\n",
            "Epoch 20/20, Training Loss: 0.8792, Validation Loss: 1.3163, Training Accuracy: 73.19%, Validation Accuracy: 51.33%\n",
            "Epoch 20/20, Training Loss: 0.8792, Validation Loss: 1.3362, Training Accuracy: 73.19%, Validation Accuracy: 51.50%\n",
            "Epoch 20/20, Training Loss: 0.8792, Validation Loss: 1.3664, Training Accuracy: 73.19%, Validation Accuracy: 51.47%\n",
            "Epoch 20/20, Training Loss: 0.8792, Validation Loss: 1.3973, Training Accuracy: 73.19%, Validation Accuracy: 51.47%\n",
            "Epoch 20/20, Training Loss: 0.8792, Validation Loss: 1.4292, Training Accuracy: 73.19%, Validation Accuracy: 51.50%\n",
            "Epoch 20/20, Training Loss: 0.8792, Validation Loss: 1.4565, Training Accuracy: 73.19%, Validation Accuracy: 51.52%\n",
            "Epoch 20/20, Training Loss: 0.8792, Validation Loss: 1.4831, Training Accuracy: 73.19%, Validation Accuracy: 51.52%\n",
            "Epoch 20/20, Training Loss: 0.8792, Validation Loss: 1.5113, Training Accuracy: 73.19%, Validation Accuracy: 51.49%\n",
            "Epoch 20/20, Training Loss: 0.8792, Validation Loss: 1.5376, Training Accuracy: 73.19%, Validation Accuracy: 51.43%\n",
            "Epoch 20/20, Training Loss: 0.8792, Validation Loss: 1.5666, Training Accuracy: 73.19%, Validation Accuracy: 51.40%\n",
            "Epoch 20/20, Training Loss: 0.8792, Validation Loss: 1.5953, Training Accuracy: 73.19%, Validation Accuracy: 51.43%\n",
            "Epoch 20/20, Training Loss: 0.8792, Validation Loss: 1.6262, Training Accuracy: 73.19%, Validation Accuracy: 51.44%\n",
            "Epoch 20/20, Training Loss: 0.8792, Validation Loss: 1.6502, Training Accuracy: 73.19%, Validation Accuracy: 51.52%\n",
            "Epoch 20/20, Training Loss: 0.8792, Validation Loss: 1.6803, Training Accuracy: 73.19%, Validation Accuracy: 51.45%\n",
            "Epoch 20/20, Training Loss: 0.8792, Validation Loss: 1.7090, Training Accuracy: 73.19%, Validation Accuracy: 51.38%\n",
            "Epoch 20/20, Training Loss: 0.8792, Validation Loss: 1.7365, Training Accuracy: 73.19%, Validation Accuracy: 51.32%\n",
            "Epoch 20/20, Training Loss: 0.8792, Validation Loss: 1.7656, Training Accuracy: 73.19%, Validation Accuracy: 51.33%\n",
            "Epoch 20/20, Training Loss: 0.8792, Validation Loss: 1.7911, Training Accuracy: 73.19%, Validation Accuracy: 51.34%\n",
            "Epoch 20/20, Training Loss: 0.8792, Validation Loss: 1.8147, Training Accuracy: 73.19%, Validation Accuracy: 51.35%\n",
            "Epoch 20/20, Training Loss: 0.8792, Validation Loss: 1.8428, Training Accuracy: 73.19%, Validation Accuracy: 51.35%\n",
            "Epoch 20/20, Training Loss: 0.8792, Validation Loss: 1.8743, Training Accuracy: 73.19%, Validation Accuracy: 51.27%\n",
            "Epoch 20/20, Training Loss: 0.8792, Validation Loss: 1.9027, Training Accuracy: 73.19%, Validation Accuracy: 51.21%\n",
            "Epoch 20/20, Training Loss: 0.8792, Validation Loss: 1.9257, Training Accuracy: 73.19%, Validation Accuracy: 51.25%\n",
            "Epoch 20/20, Training Loss: 0.8792, Validation Loss: 1.9500, Training Accuracy: 73.19%, Validation Accuracy: 51.32%\n",
            "Epoch 20/20, Training Loss: 0.8792, Validation Loss: 1.9833, Training Accuracy: 73.19%, Validation Accuracy: 51.27%\n",
            "Epoch 20/20, Training Loss: 0.8792, Validation Loss: 2.0144, Training Accuracy: 73.19%, Validation Accuracy: 51.28%\n",
            "Epoch 20/20, Training Loss: 0.8792, Validation Loss: 2.0372, Training Accuracy: 73.19%, Validation Accuracy: 51.36%\n",
            "Epoch 20/20, Training Loss: 0.8792, Validation Loss: 2.0694, Training Accuracy: 73.19%, Validation Accuracy: 51.27%\n",
            "Epoch 20/20, Training Loss: 0.8792, Validation Loss: 2.0963, Training Accuracy: 73.19%, Validation Accuracy: 51.23%\n",
            "Epoch 20/20, Training Loss: 0.8792, Validation Loss: 2.1237, Training Accuracy: 73.19%, Validation Accuracy: 51.28%\n",
            "Epoch 20/20, Training Loss: 0.8792, Validation Loss: 2.1457, Training Accuracy: 73.19%, Validation Accuracy: 51.31%\n",
            "Epoch 20/20, Training Loss: 0.8792, Validation Loss: 2.1737, Training Accuracy: 73.19%, Validation Accuracy: 51.28%\n",
            "Epoch 20/20, Training Loss: 0.8792, Validation Loss: 2.1900, Training Accuracy: 73.19%, Validation Accuracy: 51.31%\n"
          ]
        }
      ]
    },
    {
      "cell_type": "code",
      "source": [
        "import matplotlib.pyplot as plt\n",
        "\n",
        "plt.plot(train_losses, label='Training Loss')\n",
        "plt.plot(val_losses, label='Validation Loss')\n",
        "plt.legend()\n",
        "plt.show()\n",
        "\n",
        "plt.plot(train_accs, label='Training Accuracy')\n",
        "plt.plot(val_accs, label='Validation Accuracy')\n",
        "plt.legend()\n",
        "plt.show()"
      ],
      "metadata": {
        "colab": {
          "base_uri": "https://localhost:8080/",
          "height": 513
        },
        "id": "MkXI01ZYzkpa",
        "outputId": "561d054e-5945-4229-8d0f-f78dabd4e7fb"
      },
      "execution_count": null,
      "outputs": [
        {
          "output_type": "display_data",
          "data": {
            "text/plain": [
              "<Figure size 432x288 with 1 Axes>"
            ],
            "image/png": "[encoded data removed]"
          },
          "metadata": {
            "needs_background": "light"
          }
        },
        {
          "output_type": "display_data",
          "data": {
            "text/plain": [
              "<Figure size 432x288 with 1 Axes>"
            ],
            "image/png": "[encoded data removed]"
          },
          "metadata": {
            "needs_background": "light"
          }
        }
      ]
    },
    {
      "cell_type": "code",
      "source": [
        "optimizer = torch.optim.Adagrad(resnet.parameters(), lr=0.01, lr_decay=0.0, weight_decay=0.0, initial_accumulator_value=0, eps=1e-10)\n"
      ],
      "metadata": {
        "id": "HmxOP8mrR_Zj"
      },
      "execution_count": null,
      "outputs": []
    },
    {
      "cell_type": "code",
      "source": [
        "train_loader = torch.utils.data.DataLoader(train_dataset, batch_size=128, shuffle=True, num_workers=2)\n",
        "val_loader = torch.utils.data.DataLoader(val_dataset, batch_size=128, shuffle=False, num_workers=2)\n",
        "\n",
        "num_epochs = 20\n",
        "train_losses = []\n",
        "val_losses = []\n",
        "train_accs = []\n",
        "val_accs = []\n",
        "\n",
        "for epoch in range(num_epochs):\n",
        "    train_loss = 0.0\n",
        "    val_loss = 0.0\n",
        "    train_total = 0\n",
        "    val_total = 0\n",
        "    train_correct = 0\n",
        "    val_correct = 0\n",
        "    \n",
        "    resnet.train()\n",
        "    for i, data in enumerate(train_loader, 0):\n",
        "        inputs, labels = data[0].to(device), data[1].to(device)\n",
        "        optimizer.zero_grad()\n",
        "        outputs = resnet(inputs)\n",
        "        \n",
        "        loss = criterion(outputs, labels)\n",
        "        loss.backward()\n",
        "        optimizer.step()\n",
        "        train_loss += loss.item()\n",
        "        _, predicted = torch.max(outputs.data, 1)\n",
        "        train_total += labels.size(0)\n",
        "        train_correct += (predicted == labels).sum().item()\n",
        "        train_losses.append(train_loss/len(train_loader))\n",
        "        train_accs.append(train_correct/train_total)"
      ],
      "metadata": {
        "id": "WDfC0PA6lVbA"
      },
      "execution_count": null,
      "outputs": []
    },
    {
      "cell_type": "code",
      "source": [
        "resnet.eval()\n",
        "with torch.no_grad():\n",
        "    for i, data in enumerate(val_loader, 0):\n",
        "        inputs, labels = data[0].to(device), data[1].to(device)\n",
        "        outputs = resnet(inputs)\n",
        "        loss = criterion(outputs, labels)\n",
        "        val_loss += loss.item()\n",
        "        _, predicted = torch.max(outputs.data, 1)\n",
        "        val_total += labels.size(0)\n",
        "        val_correct += (predicted == labels).sum().item()\n",
        "\n",
        "        epoch_train_loss = train_loss / len(train_loader)\n",
        "        epoch_val_loss = val_loss / len(val_loader)\n",
        "        epoch_train_acc = 100 * train_correct / train_total\n",
        "        epoch_val_acc = 100 * val_correct / val_total\n",
        "       \n",
        "        val_losses.append(epoch_val_loss)\n",
        "        \n",
        "        val_accs.append(epoch_val_acc)\n",
        "\n",
        "        print(f'Epoch {epoch+1}/{num_epochs}, '\n",
        "              f'Training Loss: {epoch_train_loss:.4f}, '\n",
        "              f'Validation Loss: {epoch_val_loss:.4f}, '\n",
        "              f'Training Accuracy: {epoch_train_acc:.2f}%, '\n",
        "              f'Validation Accuracy: {epoch_val_acc:.2f}%')\n"
      ],
      "metadata": {
        "colab": {
          "base_uri": "https://localhost:8080/"
        },
        "id": "SDD8XlIAljk6",
        "outputId": "d9faf7e3-592c-4354-8cc5-748608ff9c59"
      },
      "execution_count": null,
      "outputs": [
        {
          "output_type": "stream",
          "name": "stdout",
          "text": [
            "Epoch 20/20, Training Loss: 0.1726, Validation Loss: 0.0302, Training Accuracy: 94.55%, Validation Accuracy: 59.38%\n",
            "Epoch 20/20, Training Loss: 0.1726, Validation Loss: 0.0582, Training Accuracy: 94.55%, Validation Accuracy: 58.98%\n",
            "Epoch 20/20, Training Loss: 0.1726, Validation Loss: 0.0935, Training Accuracy: 94.55%, Validation Accuracy: 58.07%\n",
            "Epoch 20/20, Training Loss: 0.1726, Validation Loss: 0.1338, Training Accuracy: 94.55%, Validation Accuracy: 55.27%\n",
            "Epoch 20/20, Training Loss: 0.1726, Validation Loss: 0.1754, Training Accuracy: 94.55%, Validation Accuracy: 53.75%\n",
            "Epoch 20/20, Training Loss: 0.1726, Validation Loss: 0.2064, Training Accuracy: 94.55%, Validation Accuracy: 54.43%\n",
            "Epoch 20/20, Training Loss: 0.1726, Validation Loss: 0.2455, Training Accuracy: 94.55%, Validation Accuracy: 53.79%\n",
            "Epoch 20/20, Training Loss: 0.1726, Validation Loss: 0.2778, Training Accuracy: 94.55%, Validation Accuracy: 54.30%\n",
            "Epoch 20/20, Training Loss: 0.1726, Validation Loss: 0.3141, Training Accuracy: 94.55%, Validation Accuracy: 53.30%\n",
            "Epoch 20/20, Training Loss: 0.1726, Validation Loss: 0.3507, Training Accuracy: 94.55%, Validation Accuracy: 53.44%\n",
            "Epoch 20/20, Training Loss: 0.1726, Validation Loss: 0.3783, Training Accuracy: 94.55%, Validation Accuracy: 53.91%\n",
            "Epoch 20/20, Training Loss: 0.1726, Validation Loss: 0.4172, Training Accuracy: 94.55%, Validation Accuracy: 53.91%\n",
            "Epoch 20/20, Training Loss: 0.1726, Validation Loss: 0.4510, Training Accuracy: 94.55%, Validation Accuracy: 54.09%\n",
            "Epoch 20/20, Training Loss: 0.1726, Validation Loss: 0.4828, Training Accuracy: 94.55%, Validation Accuracy: 53.96%\n",
            "Epoch 20/20, Training Loss: 0.1726, Validation Loss: 0.5121, Training Accuracy: 94.55%, Validation Accuracy: 54.32%\n",
            "Epoch 20/20, Training Loss: 0.1726, Validation Loss: 0.5447, Training Accuracy: 94.55%, Validation Accuracy: 54.35%\n",
            "Epoch 20/20, Training Loss: 0.1726, Validation Loss: 0.5651, Training Accuracy: 94.55%, Validation Accuracy: 54.87%\n",
            "Epoch 20/20, Training Loss: 0.1726, Validation Loss: 0.5975, Training Accuracy: 94.55%, Validation Accuracy: 54.82%\n",
            "Epoch 20/20, Training Loss: 0.1726, Validation Loss: 0.6247, Training Accuracy: 94.55%, Validation Accuracy: 54.98%\n",
            "Epoch 20/20, Training Loss: 0.1726, Validation Loss: 0.6567, Training Accuracy: 94.55%, Validation Accuracy: 54.92%\n",
            "Epoch 20/20, Training Loss: 0.1726, Validation Loss: 0.6841, Training Accuracy: 94.55%, Validation Accuracy: 55.02%\n",
            "Epoch 20/20, Training Loss: 0.1726, Validation Loss: 0.7174, Training Accuracy: 94.55%, Validation Accuracy: 55.11%\n",
            "Epoch 20/20, Training Loss: 0.1726, Validation Loss: 0.7537, Training Accuracy: 94.55%, Validation Accuracy: 54.99%\n",
            "Epoch 20/20, Training Loss: 0.1726, Validation Loss: 0.7944, Training Accuracy: 94.55%, Validation Accuracy: 55.05%\n",
            "Epoch 20/20, Training Loss: 0.1726, Validation Loss: 0.8260, Training Accuracy: 94.55%, Validation Accuracy: 55.19%\n",
            "Epoch 20/20, Training Loss: 0.1726, Validation Loss: 0.8604, Training Accuracy: 94.55%, Validation Accuracy: 55.32%\n",
            "Epoch 20/20, Training Loss: 0.1726, Validation Loss: 0.9006, Training Accuracy: 94.55%, Validation Accuracy: 55.21%\n",
            "Epoch 20/20, Training Loss: 0.1726, Validation Loss: 0.9350, Training Accuracy: 94.55%, Validation Accuracy: 55.11%\n",
            "Epoch 20/20, Training Loss: 0.1726, Validation Loss: 0.9588, Training Accuracy: 94.55%, Validation Accuracy: 55.23%\n",
            "Epoch 20/20, Training Loss: 0.1726, Validation Loss: 0.9923, Training Accuracy: 94.55%, Validation Accuracy: 55.23%\n",
            "Epoch 20/20, Training Loss: 0.1726, Validation Loss: 1.0327, Training Accuracy: 94.55%, Validation Accuracy: 55.09%\n",
            "Epoch 20/20, Training Loss: 0.1726, Validation Loss: 1.0674, Training Accuracy: 94.55%, Validation Accuracy: 55.10%\n",
            "Epoch 20/20, Training Loss: 0.1726, Validation Loss: 1.1055, Training Accuracy: 94.55%, Validation Accuracy: 55.02%\n",
            "Epoch 20/20, Training Loss: 0.1726, Validation Loss: 1.1323, Training Accuracy: 94.55%, Validation Accuracy: 55.12%\n",
            "Epoch 20/20, Training Loss: 0.1726, Validation Loss: 1.1690, Training Accuracy: 94.55%, Validation Accuracy: 54.96%\n",
            "Epoch 20/20, Training Loss: 0.1726, Validation Loss: 1.2084, Training Accuracy: 94.55%, Validation Accuracy: 54.82%\n",
            "Epoch 20/20, Training Loss: 0.1726, Validation Loss: 1.2423, Training Accuracy: 94.55%, Validation Accuracy: 54.90%\n",
            "Epoch 20/20, Training Loss: 0.1726, Validation Loss: 1.2737, Training Accuracy: 94.55%, Validation Accuracy: 54.81%\n",
            "Epoch 20/20, Training Loss: 0.1726, Validation Loss: 1.3011, Training Accuracy: 94.55%, Validation Accuracy: 54.93%\n",
            "Epoch 20/20, Training Loss: 0.1726, Validation Loss: 1.3338, Training Accuracy: 94.55%, Validation Accuracy: 55.06%\n",
            "Epoch 20/20, Training Loss: 0.1726, Validation Loss: 1.3762, Training Accuracy: 94.55%, Validation Accuracy: 54.86%\n",
            "Epoch 20/20, Training Loss: 0.1726, Validation Loss: 1.4042, Training Accuracy: 94.55%, Validation Accuracy: 55.04%\n",
            "Epoch 20/20, Training Loss: 0.1726, Validation Loss: 1.4363, Training Accuracy: 94.55%, Validation Accuracy: 54.94%\n",
            "Epoch 20/20, Training Loss: 0.1726, Validation Loss: 1.4728, Training Accuracy: 94.55%, Validation Accuracy: 54.87%\n",
            "Epoch 20/20, Training Loss: 0.1726, Validation Loss: 1.5038, Training Accuracy: 94.55%, Validation Accuracy: 54.93%\n",
            "Epoch 20/20, Training Loss: 0.1726, Validation Loss: 1.5339, Training Accuracy: 94.55%, Validation Accuracy: 55.03%\n",
            "Epoch 20/20, Training Loss: 0.1726, Validation Loss: 1.5723, Training Accuracy: 94.55%, Validation Accuracy: 55.09%\n",
            "Epoch 20/20, Training Loss: 0.1726, Validation Loss: 1.6004, Training Accuracy: 94.55%, Validation Accuracy: 55.16%\n",
            "Epoch 20/20, Training Loss: 0.1726, Validation Loss: 1.6352, Training Accuracy: 94.55%, Validation Accuracy: 55.05%\n",
            "Epoch 20/20, Training Loss: 0.1726, Validation Loss: 1.6683, Training Accuracy: 94.55%, Validation Accuracy: 55.02%\n",
            "Epoch 20/20, Training Loss: 0.1726, Validation Loss: 1.7082, Training Accuracy: 94.55%, Validation Accuracy: 54.95%\n",
            "Epoch 20/20, Training Loss: 0.1726, Validation Loss: 1.7435, Training Accuracy: 94.55%, Validation Accuracy: 54.94%\n",
            "Epoch 20/20, Training Loss: 0.1726, Validation Loss: 1.7784, Training Accuracy: 94.55%, Validation Accuracy: 54.97%\n",
            "Epoch 20/20, Training Loss: 0.1726, Validation Loss: 1.8101, Training Accuracy: 94.55%, Validation Accuracy: 55.02%\n",
            "Epoch 20/20, Training Loss: 0.1726, Validation Loss: 1.8411, Training Accuracy: 94.55%, Validation Accuracy: 55.09%\n",
            "Epoch 20/20, Training Loss: 0.1726, Validation Loss: 1.8713, Training Accuracy: 94.55%, Validation Accuracy: 55.04%\n",
            "Epoch 20/20, Training Loss: 0.1726, Validation Loss: 1.9009, Training Accuracy: 94.55%, Validation Accuracy: 55.21%\n",
            "Epoch 20/20, Training Loss: 0.1726, Validation Loss: 1.9356, Training Accuracy: 94.55%, Validation Accuracy: 55.21%\n",
            "Epoch 20/20, Training Loss: 0.1726, Validation Loss: 1.9673, Training Accuracy: 94.55%, Validation Accuracy: 55.28%\n",
            "Epoch 20/20, Training Loss: 0.1726, Validation Loss: 2.0050, Training Accuracy: 94.55%, Validation Accuracy: 55.17%\n",
            "Epoch 20/20, Training Loss: 0.1726, Validation Loss: 2.0408, Training Accuracy: 94.55%, Validation Accuracy: 55.12%\n",
            "Epoch 20/20, Training Loss: 0.1726, Validation Loss: 2.0727, Training Accuracy: 94.55%, Validation Accuracy: 55.13%\n",
            "Epoch 20/20, Training Loss: 0.1726, Validation Loss: 2.1031, Training Accuracy: 94.55%, Validation Accuracy: 55.13%\n",
            "Epoch 20/20, Training Loss: 0.1726, Validation Loss: 2.1299, Training Accuracy: 94.55%, Validation Accuracy: 55.18%\n",
            "Epoch 20/20, Training Loss: 0.1726, Validation Loss: 2.1590, Training Accuracy: 94.55%, Validation Accuracy: 55.30%\n",
            "Epoch 20/20, Training Loss: 0.1726, Validation Loss: 2.1940, Training Accuracy: 94.55%, Validation Accuracy: 55.29%\n",
            "Epoch 20/20, Training Loss: 0.1726, Validation Loss: 2.2351, Training Accuracy: 94.55%, Validation Accuracy: 55.20%\n",
            "Epoch 20/20, Training Loss: 0.1726, Validation Loss: 2.2677, Training Accuracy: 94.55%, Validation Accuracy: 55.14%\n",
            "Epoch 20/20, Training Loss: 0.1726, Validation Loss: 2.2958, Training Accuracy: 94.55%, Validation Accuracy: 55.19%\n",
            "Epoch 20/20, Training Loss: 0.1726, Validation Loss: 2.3288, Training Accuracy: 94.55%, Validation Accuracy: 55.21%\n",
            "Epoch 20/20, Training Loss: 0.1726, Validation Loss: 2.3684, Training Accuracy: 94.55%, Validation Accuracy: 55.13%\n",
            "Epoch 20/20, Training Loss: 0.1726, Validation Loss: 2.4007, Training Accuracy: 94.55%, Validation Accuracy: 55.18%\n",
            "Epoch 20/20, Training Loss: 0.1726, Validation Loss: 2.4278, Training Accuracy: 94.55%, Validation Accuracy: 55.29%\n",
            "Epoch 20/20, Training Loss: 0.1726, Validation Loss: 2.4608, Training Accuracy: 94.55%, Validation Accuracy: 55.19%\n",
            "Epoch 20/20, Training Loss: 0.1726, Validation Loss: 2.4950, Training Accuracy: 94.55%, Validation Accuracy: 55.17%\n",
            "Epoch 20/20, Training Loss: 0.1726, Validation Loss: 2.5311, Training Accuracy: 94.55%, Validation Accuracy: 55.21%\n",
            "Epoch 20/20, Training Loss: 0.1726, Validation Loss: 2.5624, Training Accuracy: 94.55%, Validation Accuracy: 55.17%\n",
            "Epoch 20/20, Training Loss: 0.1726, Validation Loss: 2.5931, Training Accuracy: 94.55%, Validation Accuracy: 55.25%\n",
            "Epoch 20/20, Training Loss: 0.1726, Validation Loss: 2.6125, Training Accuracy: 94.55%, Validation Accuracy: 55.27%\n"
          ]
        }
      ]
    },
    {
      "cell_type": "code",
      "source": [
        "import matplotlib.pyplot as plt\n",
        "\n",
        "plt.plot(train_losses, label='Training Loss')\n",
        "plt.plot(val_losses, label='Validation Loss')\n",
        "plt.legend()\n",
        "plt.show()\n",
        "\n",
        "plt.plot(train_accs, label='Training Accuracy')\n",
        "plt.plot(val_accs, label='Validation Accuracy')\n",
        "plt.legend()\n",
        "plt.show()"
      ],
      "metadata": {
        "colab": {
          "base_uri": "https://localhost:8080/",
          "height": 513
        },
        "id": "MEWBKzHrlkPo",
        "outputId": "3fb59d16-1de3-404f-cef1-052ce511a511"
      },
      "execution_count": null,
      "outputs": [
        {
          "output_type": "display_data",
          "data": {
            "text/plain": [
              "<Figure size 432x288 with 1 Axes>"
            ],
            "image/png": "[encoded data removed]"
          },
          "metadata": {
            "needs_background": "light"
          }
        },
        {
          "output_type": "display_data",
          "data": {
            "text/plain": [
              "<Figure size 432x288 with 1 Axes>"
            ],
            "image/png": "[encoded data removed]"
          },
          "metadata": {
            "needs_background": "light"
          }
        }
      ]
    },
    {
      "cell_type": "code",
      "source": [
        "optimizer = torch.optim.Adagrad(resnet.parameters(), lr=0.0001, lr_decay=0.0, weight_decay=0.1, initial_accumulator_value=0, eps=1e-10)"
      ],
      "metadata": {
        "id": "kXXJBNGByKwp"
      },
      "execution_count": null,
      "outputs": []
    },
    {
      "cell_type": "code",
      "source": [
        "train_loader = torch.utils.data.DataLoader(train_dataset, batch_size=128, shuffle=True, num_workers=2)\n",
        "val_loader = torch.utils.data.DataLoader(val_dataset, batch_size=128, shuffle=False, num_workers=2)\n",
        "\n",
        "num_epochs = 20\n",
        "train_losses = []\n",
        "val_losses = []\n",
        "train_accs = []\n",
        "val_accs = []\n",
        "\n",
        "for epoch in range(num_epochs):\n",
        "    train_loss = 0.0\n",
        "    val_loss = 0.0\n",
        "    train_total = 0\n",
        "    val_total = 0\n",
        "    train_correct = 0\n",
        "    val_correct = 0\n",
        "    \n",
        "    resnet.train()\n",
        "    for i, data in enumerate(train_loader, 0):\n",
        "        inputs, labels = data[0].to(device), data[1].to(device)\n",
        "        optimizer.zero_grad()\n",
        "        outputs = resnet(inputs)\n",
        "        \n",
        "        loss = criterion(outputs, labels)\n",
        "        loss.backward()\n",
        "        optimizer.step()\n",
        "        train_loss += loss.item()\n",
        "        _, predicted = torch.max(outputs.data, 1)\n",
        "        train_total += labels.size(0)\n",
        "        train_correct += (predicted == labels).sum().item()\n",
        "        train_losses.append(train_loss/len(train_loader))\n",
        "        train_accs.append(train_correct/train_total)"
      ],
      "metadata": {
        "id": "XcRzlw-Vyi2M"
      },
      "execution_count": null,
      "outputs": []
    },
    {
      "cell_type": "code",
      "source": [
        "resnet.eval()\n",
        "with torch.no_grad():\n",
        "    for i, data in enumerate(val_loader, 0):\n",
        "        inputs, labels = data[0].to(device), data[1].to(device)\n",
        "        outputs = resnet(inputs)\n",
        "        loss = criterion(outputs, labels)\n",
        "        val_loss += loss.item()\n",
        "        _, predicted = torch.max(outputs.data, 1)\n",
        "        val_total += labels.size(0)\n",
        "        val_correct += (predicted == labels).sum().item()\n",
        "\n",
        "        epoch_train_loss = train_loss / len(train_loader)\n",
        "        epoch_val_loss = val_loss / len(val_loader)\n",
        "        epoch_train_acc = 100 * train_correct / train_total\n",
        "        epoch_val_acc = 100 * val_correct / val_total\n",
        "       \n",
        "        val_losses.append(epoch_val_loss)\n",
        "        \n",
        "        val_accs.append(epoch_val_acc)\n",
        "\n",
        "        print(f'Epoch {epoch+1}/{num_epochs}, '\n",
        "              f'Training Loss: {epoch_train_loss:.4f}, '\n",
        "              f'Validation Loss: {epoch_val_loss:.4f}, '\n",
        "              f'Training Accuracy: {epoch_train_acc:.2f}%, '\n",
        "              f'Validation Accuracy: {epoch_val_acc:.2f}%')\n"
      ],
      "metadata": {
        "colab": {
          "base_uri": "https://localhost:8080/"
        },
        "id": "9XtNX6ljzAl7",
        "outputId": "eb025ade-0465-48b1-ede7-8635eec81748"
      },
      "execution_count": null,
      "outputs": [
        {
          "output_type": "stream",
          "name": "stdout",
          "text": [
            "Epoch 20/20, Training Loss: 0.1678, Validation Loss: 0.0274, Training Accuracy: 94.72%, Validation Accuracy: 63.28%\n",
            "Epoch 20/20, Training Loss: 0.1678, Validation Loss: 0.0586, Training Accuracy: 94.72%, Validation Accuracy: 60.55%\n",
            "Epoch 20/20, Training Loss: 0.1678, Validation Loss: 0.0912, Training Accuracy: 94.72%, Validation Accuracy: 58.33%\n",
            "Epoch 20/20, Training Loss: 0.1678, Validation Loss: 0.1296, Training Accuracy: 94.72%, Validation Accuracy: 56.45%\n",
            "Epoch 20/20, Training Loss: 0.1678, Validation Loss: 0.1687, Training Accuracy: 94.72%, Validation Accuracy: 55.78%\n",
            "Epoch 20/20, Training Loss: 0.1678, Validation Loss: 0.1982, Training Accuracy: 94.72%, Validation Accuracy: 55.99%\n",
            "Epoch 20/20, Training Loss: 0.1678, Validation Loss: 0.2318, Training Accuracy: 94.72%, Validation Accuracy: 56.14%\n",
            "Epoch 20/20, Training Loss: 0.1678, Validation Loss: 0.2664, Training Accuracy: 94.72%, Validation Accuracy: 56.05%\n",
            "Epoch 20/20, Training Loss: 0.1678, Validation Loss: 0.3008, Training Accuracy: 94.72%, Validation Accuracy: 55.03%\n",
            "Epoch 20/20, Training Loss: 0.1678, Validation Loss: 0.3371, Training Accuracy: 94.72%, Validation Accuracy: 55.08%\n",
            "Epoch 20/20, Training Loss: 0.1678, Validation Loss: 0.3652, Training Accuracy: 94.72%, Validation Accuracy: 55.68%\n",
            "Epoch 20/20, Training Loss: 0.1678, Validation Loss: 0.4047, Training Accuracy: 94.72%, Validation Accuracy: 55.60%\n",
            "Epoch 20/20, Training Loss: 0.1678, Validation Loss: 0.4390, Training Accuracy: 94.72%, Validation Accuracy: 55.29%\n",
            "Epoch 20/20, Training Loss: 0.1678, Validation Loss: 0.4709, Training Accuracy: 94.72%, Validation Accuracy: 55.52%\n",
            "Epoch 20/20, Training Loss: 0.1678, Validation Loss: 0.4985, Training Accuracy: 94.72%, Validation Accuracy: 55.89%\n",
            "Epoch 20/20, Training Loss: 0.1678, Validation Loss: 0.5286, Training Accuracy: 94.72%, Validation Accuracy: 55.76%\n",
            "Epoch 20/20, Training Loss: 0.1678, Validation Loss: 0.5519, Training Accuracy: 94.72%, Validation Accuracy: 56.11%\n",
            "Epoch 20/20, Training Loss: 0.1678, Validation Loss: 0.5819, Training Accuracy: 94.72%, Validation Accuracy: 56.12%\n",
            "Epoch 20/20, Training Loss: 0.1678, Validation Loss: 0.6080, Training Accuracy: 94.72%, Validation Accuracy: 56.25%\n",
            "Epoch 20/20, Training Loss: 0.1678, Validation Loss: 0.6408, Training Accuracy: 94.72%, Validation Accuracy: 56.02%\n",
            "Epoch 20/20, Training Loss: 0.1678, Validation Loss: 0.6652, Training Accuracy: 94.72%, Validation Accuracy: 56.40%\n",
            "Epoch 20/20, Training Loss: 0.1678, Validation Loss: 0.6962, Training Accuracy: 94.72%, Validation Accuracy: 56.39%\n",
            "Epoch 20/20, Training Loss: 0.1678, Validation Loss: 0.7310, Training Accuracy: 94.72%, Validation Accuracy: 56.28%\n",
            "Epoch 20/20, Training Loss: 0.1678, Validation Loss: 0.7701, Training Accuracy: 94.72%, Validation Accuracy: 56.18%\n",
            "Epoch 20/20, Training Loss: 0.1678, Validation Loss: 0.7990, Training Accuracy: 94.72%, Validation Accuracy: 56.31%\n",
            "Epoch 20/20, Training Loss: 0.1678, Validation Loss: 0.8295, Training Accuracy: 94.72%, Validation Accuracy: 56.34%\n",
            "Epoch 20/20, Training Loss: 0.1678, Validation Loss: 0.8677, Training Accuracy: 94.72%, Validation Accuracy: 56.25%\n",
            "Epoch 20/20, Training Loss: 0.1678, Validation Loss: 0.9008, Training Accuracy: 94.72%, Validation Accuracy: 56.11%\n",
            "Epoch 20/20, Training Loss: 0.1678, Validation Loss: 0.9244, Training Accuracy: 94.72%, Validation Accuracy: 56.28%\n",
            "Epoch 20/20, Training Loss: 0.1678, Validation Loss: 0.9612, Training Accuracy: 94.72%, Validation Accuracy: 56.20%\n",
            "Epoch 20/20, Training Loss: 0.1678, Validation Loss: 0.9968, Training Accuracy: 94.72%, Validation Accuracy: 56.10%\n",
            "Epoch 20/20, Training Loss: 0.1678, Validation Loss: 1.0285, Training Accuracy: 94.72%, Validation Accuracy: 56.03%\n",
            "Epoch 20/20, Training Loss: 0.1678, Validation Loss: 1.0667, Training Accuracy: 94.72%, Validation Accuracy: 55.89%\n",
            "Epoch 20/20, Training Loss: 0.1678, Validation Loss: 1.0912, Training Accuracy: 94.72%, Validation Accuracy: 55.95%\n",
            "Epoch 20/20, Training Loss: 0.1678, Validation Loss: 1.1298, Training Accuracy: 94.72%, Validation Accuracy: 55.78%\n",
            "Epoch 20/20, Training Loss: 0.1678, Validation Loss: 1.1661, Training Accuracy: 94.72%, Validation Accuracy: 55.73%\n",
            "Epoch 20/20, Training Loss: 0.1678, Validation Loss: 1.2016, Training Accuracy: 94.72%, Validation Accuracy: 55.76%\n",
            "Epoch 20/20, Training Loss: 0.1678, Validation Loss: 1.2340, Training Accuracy: 94.72%, Validation Accuracy: 55.74%\n",
            "Epoch 20/20, Training Loss: 0.1678, Validation Loss: 1.2583, Training Accuracy: 94.72%, Validation Accuracy: 55.85%\n",
            "Epoch 20/20, Training Loss: 0.1678, Validation Loss: 1.2896, Training Accuracy: 94.72%, Validation Accuracy: 55.84%\n",
            "Epoch 20/20, Training Loss: 0.1678, Validation Loss: 1.3312, Training Accuracy: 94.72%, Validation Accuracy: 55.56%\n",
            "Epoch 20/20, Training Loss: 0.1678, Validation Loss: 1.3567, Training Accuracy: 94.72%, Validation Accuracy: 55.71%\n",
            "Epoch 20/20, Training Loss: 0.1678, Validation Loss: 1.3902, Training Accuracy: 94.72%, Validation Accuracy: 55.63%\n",
            "Epoch 20/20, Training Loss: 0.1678, Validation Loss: 1.4240, Training Accuracy: 94.72%, Validation Accuracy: 55.47%\n",
            "Epoch 20/20, Training Loss: 0.1678, Validation Loss: 1.4577, Training Accuracy: 94.72%, Validation Accuracy: 55.38%\n",
            "Epoch 20/20, Training Loss: 0.1678, Validation Loss: 1.4878, Training Accuracy: 94.72%, Validation Accuracy: 55.57%\n",
            "Epoch 20/20, Training Loss: 0.1678, Validation Loss: 1.5274, Training Accuracy: 94.72%, Validation Accuracy: 55.59%\n",
            "Epoch 20/20, Training Loss: 0.1678, Validation Loss: 1.5500, Training Accuracy: 94.72%, Validation Accuracy: 55.70%\n",
            "Epoch 20/20, Training Loss: 0.1678, Validation Loss: 1.5809, Training Accuracy: 94.72%, Validation Accuracy: 55.60%\n",
            "Epoch 20/20, Training Loss: 0.1678, Validation Loss: 1.6149, Training Accuracy: 94.72%, Validation Accuracy: 55.56%\n",
            "Epoch 20/20, Training Loss: 0.1678, Validation Loss: 1.6482, Training Accuracy: 94.72%, Validation Accuracy: 55.56%\n",
            "Epoch 20/20, Training Loss: 0.1678, Validation Loss: 1.6860, Training Accuracy: 94.72%, Validation Accuracy: 55.59%\n",
            "Epoch 20/20, Training Loss: 0.1678, Validation Loss: 1.7163, Training Accuracy: 94.72%, Validation Accuracy: 55.56%\n",
            "Epoch 20/20, Training Loss: 0.1678, Validation Loss: 1.7482, Training Accuracy: 94.72%, Validation Accuracy: 55.58%\n",
            "Epoch 20/20, Training Loss: 0.1678, Validation Loss: 1.7759, Training Accuracy: 94.72%, Validation Accuracy: 55.64%\n",
            "Epoch 20/20, Training Loss: 0.1678, Validation Loss: 1.8074, Training Accuracy: 94.72%, Validation Accuracy: 55.59%\n",
            "Epoch 20/20, Training Loss: 0.1678, Validation Loss: 1.8356, Training Accuracy: 94.72%, Validation Accuracy: 55.69%\n",
            "Epoch 20/20, Training Loss: 0.1678, Validation Loss: 1.8665, Training Accuracy: 94.72%, Validation Accuracy: 55.72%\n",
            "Epoch 20/20, Training Loss: 0.1678, Validation Loss: 1.8961, Training Accuracy: 94.72%, Validation Accuracy: 55.80%\n",
            "Epoch 20/20, Training Loss: 0.1678, Validation Loss: 1.9349, Training Accuracy: 94.72%, Validation Accuracy: 55.60%\n",
            "Epoch 20/20, Training Loss: 0.1678, Validation Loss: 1.9687, Training Accuracy: 94.72%, Validation Accuracy: 55.55%\n",
            "Epoch 20/20, Training Loss: 0.1678, Validation Loss: 1.9970, Training Accuracy: 94.72%, Validation Accuracy: 55.62%\n",
            "Epoch 20/20, Training Loss: 0.1678, Validation Loss: 2.0273, Training Accuracy: 94.72%, Validation Accuracy: 55.64%\n",
            "Epoch 20/20, Training Loss: 0.1678, Validation Loss: 2.0538, Training Accuracy: 94.72%, Validation Accuracy: 55.73%\n",
            "Epoch 20/20, Training Loss: 0.1678, Validation Loss: 2.0866, Training Accuracy: 94.72%, Validation Accuracy: 55.73%\n",
            "Epoch 20/20, Training Loss: 0.1678, Validation Loss: 2.1201, Training Accuracy: 94.72%, Validation Accuracy: 55.74%\n",
            "Epoch 20/20, Training Loss: 0.1678, Validation Loss: 2.1579, Training Accuracy: 94.72%, Validation Accuracy: 55.73%\n",
            "Epoch 20/20, Training Loss: 0.1678, Validation Loss: 2.1915, Training Accuracy: 94.72%, Validation Accuracy: 55.71%\n",
            "Epoch 20/20, Training Loss: 0.1678, Validation Loss: 2.2182, Training Accuracy: 94.72%, Validation Accuracy: 55.73%\n",
            "Epoch 20/20, Training Loss: 0.1678, Validation Loss: 2.2505, Training Accuracy: 94.72%, Validation Accuracy: 55.78%\n",
            "Epoch 20/20, Training Loss: 0.1678, Validation Loss: 2.2873, Training Accuracy: 94.72%, Validation Accuracy: 55.73%\n",
            "Epoch 20/20, Training Loss: 0.1678, Validation Loss: 2.3187, Training Accuracy: 94.72%, Validation Accuracy: 55.72%\n",
            "Epoch 20/20, Training Loss: 0.1678, Validation Loss: 2.3455, Training Accuracy: 94.72%, Validation Accuracy: 55.76%\n",
            "Epoch 20/20, Training Loss: 0.1678, Validation Loss: 2.3819, Training Accuracy: 94.72%, Validation Accuracy: 55.67%\n",
            "Epoch 20/20, Training Loss: 0.1678, Validation Loss: 2.4163, Training Accuracy: 94.72%, Validation Accuracy: 55.64%\n",
            "Epoch 20/20, Training Loss: 0.1678, Validation Loss: 2.4511, Training Accuracy: 94.72%, Validation Accuracy: 55.67%\n",
            "Epoch 20/20, Training Loss: 0.1678, Validation Loss: 2.4836, Training Accuracy: 94.72%, Validation Accuracy: 55.65%\n",
            "Epoch 20/20, Training Loss: 0.1678, Validation Loss: 2.5124, Training Accuracy: 94.72%, Validation Accuracy: 55.75%\n",
            "Epoch 20/20, Training Loss: 0.1678, Validation Loss: 2.5308, Training Accuracy: 94.72%, Validation Accuracy: 55.77%\n"
          ]
        }
      ]
    },
    {
      "cell_type": "code",
      "source": [
        "import matplotlib.pyplot as plt\n",
        "\n",
        "plt.plot(train_losses, label='Training Loss')\n",
        "plt.plot(val_losses, label='Validation Loss')\n",
        "plt.legend()\n",
        "plt.show()\n",
        "\n",
        "plt.plot(train_accs, label='Training Accuracy')\n",
        "plt.plot(val_accs, label='Validation Accuracy')\n",
        "plt.legend()\n",
        "plt.show()"
      ],
      "metadata": {
        "colab": {
          "base_uri": "https://localhost:8080/",
          "height": 513
        },
        "id": "udSfZwPgywZJ",
        "outputId": "d0ab2f11-d5a1-43f6-afe5-15cfda4849b3"
      },
      "execution_count": null,
      "outputs": [
        {
          "output_type": "display_data",
          "data": {
            "text/plain": [
              "<Figure size 432x288 with 1 Axes>"
            ],
            "image/png": "[encoded data removed]"
          },
          "metadata": {
            "needs_background": "light"
          }
        },
        {
          "output_type": "display_data",
          "data": {
            "text/plain": [
              "<Figure size 432x288 with 1 Axes>"
            ],
            "image/png": "[encoded data removed]"
          },
          "metadata": {
            "needs_background": "light"
          }
        }
      ]
    },
    {
      "cell_type": "code",
      "source": [
        "optimizer = torch.optim.RMSprop(resnet.parameters(), lr=0.001, alpha=0.99, eps=1e-08, weight_decay=0.0, momentum=0.0, centered=False)"
      ],
      "metadata": {
        "id": "hdhEmgzRSKM6"
      },
      "execution_count": null,
      "outputs": []
    },
    {
      "cell_type": "code",
      "source": [
        "train_loader = torch.utils.data.DataLoader(train_dataset, batch_size=128, shuffle=True, num_workers=2)\n",
        "val_loader = torch.utils.data.DataLoader(val_dataset, batch_size=128, shuffle=False, num_workers=2)\n",
        "\n",
        "num_epochs = 20\n",
        "train_losses = []\n",
        "val_losses = []\n",
        "train_accs = []\n",
        "val_accs = []\n",
        "\n",
        "for epoch in range(num_epochs):\n",
        "    train_loss = 0.0\n",
        "    val_loss = 0.0\n",
        "    train_total = 0\n",
        "    val_total = 0\n",
        "    train_correct = 0\n",
        "    val_correct = 0\n",
        "    \n",
        "    resnet.train()\n",
        "    for i, data in enumerate(train_loader, 0):\n",
        "        inputs, labels = data[0].to(device), data[1].to(device)\n",
        "        optimizer.zero_grad()\n",
        "        outputs = resnet(inputs)\n",
        "        \n",
        "        loss = criterion(outputs, labels)\n",
        "        loss.backward()\n",
        "        optimizer.step()\n",
        "        train_loss += loss.item()\n",
        "        _, predicted = torch.max(outputs.data, 1)\n",
        "        train_total += labels.size(0)\n",
        "        train_correct += (predicted == labels).sum().item()\n",
        "        train_losses.append(train_loss/len(train_loader))\n",
        "        train_accs.append(train_correct/train_total)"
      ],
      "metadata": {
        "id": "0x2VK7vroNTk"
      },
      "execution_count": null,
      "outputs": []
    },
    {
      "cell_type": "code",
      "source": [
        "resnet.eval()\n",
        "with torch.no_grad():\n",
        "    for i, data in enumerate(val_loader, 0):\n",
        "        inputs, labels = data[0].to(device), data[1].to(device)\n",
        "        outputs = resnet(inputs)\n",
        "        loss = criterion(outputs, labels)\n",
        "        val_loss += loss.item()\n",
        "        _, predicted = torch.max(outputs.data, 1)\n",
        "        val_total += labels.size(0)\n",
        "        val_correct += (predicted == labels).sum().item()\n",
        "\n",
        "        epoch_train_loss = train_loss / len(train_loader)\n",
        "        epoch_val_loss = val_loss / len(val_loader)\n",
        "        epoch_train_acc = 100 * train_correct / train_total\n",
        "        epoch_val_acc = 100 * val_correct / val_total\n",
        "       \n",
        "        val_losses.append(epoch_val_loss)\n",
        "        \n",
        "        val_accs.append(epoch_val_acc)\n",
        "\n",
        "        print(f'Epoch {epoch+1}/{num_epochs}, '\n",
        "              f'Training Loss: {epoch_train_loss:.4f}, '\n",
        "              f'Validation Loss: {epoch_val_loss:.4f}, '\n",
        "              f'Training Accuracy: {epoch_train_acc:.2f}%, '\n",
        "              f'Validation Accuracy: {epoch_val_acc:.2f}%')\n"
      ],
      "metadata": {
        "colab": {
          "base_uri": "https://localhost:8080/"
        },
        "id": "_leMezUIoOEQ",
        "outputId": "44fe6faa-ab49-46a5-fb02-4b903080a12c"
      },
      "execution_count": null,
      "outputs": [
        {
          "output_type": "stream",
          "name": "stdout",
          "text": [
            "Epoch 20/20, Training Loss: 0.1834, Validation Loss: 0.0615, Training Accuracy: 94.14%, Validation Accuracy: 41.41%\n",
            "Epoch 20/20, Training Loss: 0.1834, Validation Loss: 0.1190, Training Accuracy: 94.14%, Validation Accuracy: 41.80%\n",
            "Epoch 20/20, Training Loss: 0.1834, Validation Loss: 0.1822, Training Accuracy: 94.14%, Validation Accuracy: 38.80%\n",
            "Epoch 20/20, Training Loss: 0.1834, Validation Loss: 0.2541, Training Accuracy: 94.14%, Validation Accuracy: 38.48%\n",
            "Epoch 20/20, Training Loss: 0.1834, Validation Loss: 0.3136, Training Accuracy: 94.14%, Validation Accuracy: 39.06%\n",
            "Epoch 20/20, Training Loss: 0.1834, Validation Loss: 0.3631, Training Accuracy: 94.14%, Validation Accuracy: 39.71%\n",
            "Epoch 20/20, Training Loss: 0.1834, Validation Loss: 0.4247, Training Accuracy: 94.14%, Validation Accuracy: 39.40%\n",
            "Epoch 20/20, Training Loss: 0.1834, Validation Loss: 0.4818, Training Accuracy: 94.14%, Validation Accuracy: 39.06%\n",
            "Epoch 20/20, Training Loss: 0.1834, Validation Loss: 0.5495, Training Accuracy: 94.14%, Validation Accuracy: 38.72%\n",
            "Epoch 20/20, Training Loss: 0.1834, Validation Loss: 0.6098, Training Accuracy: 94.14%, Validation Accuracy: 38.91%\n",
            "Epoch 20/20, Training Loss: 0.1834, Validation Loss: 0.6643, Training Accuracy: 94.14%, Validation Accuracy: 39.70%\n",
            "Epoch 20/20, Training Loss: 0.1834, Validation Loss: 0.7249, Training Accuracy: 94.14%, Validation Accuracy: 39.71%\n",
            "Epoch 20/20, Training Loss: 0.1834, Validation Loss: 0.7747, Training Accuracy: 94.14%, Validation Accuracy: 40.14%\n",
            "Epoch 20/20, Training Loss: 0.1834, Validation Loss: 0.8288, Training Accuracy: 94.14%, Validation Accuracy: 40.40%\n",
            "Epoch 20/20, Training Loss: 0.1834, Validation Loss: 0.8836, Training Accuracy: 94.14%, Validation Accuracy: 40.47%\n",
            "Epoch 20/20, Training Loss: 0.1834, Validation Loss: 0.9421, Training Accuracy: 94.14%, Validation Accuracy: 40.53%\n",
            "Epoch 20/20, Training Loss: 0.1834, Validation Loss: 0.9861, Training Accuracy: 94.14%, Validation Accuracy: 40.90%\n",
            "Epoch 20/20, Training Loss: 0.1834, Validation Loss: 1.0410, Training Accuracy: 94.14%, Validation Accuracy: 40.89%\n",
            "Epoch 20/20, Training Loss: 0.1834, Validation Loss: 1.0848, Training Accuracy: 94.14%, Validation Accuracy: 41.16%\n",
            "Epoch 20/20, Training Loss: 0.1834, Validation Loss: 1.1470, Training Accuracy: 94.14%, Validation Accuracy: 40.94%\n",
            "Epoch 20/20, Training Loss: 0.1834, Validation Loss: 1.1985, Training Accuracy: 94.14%, Validation Accuracy: 41.18%\n",
            "Epoch 20/20, Training Loss: 0.1834, Validation Loss: 1.2611, Training Accuracy: 94.14%, Validation Accuracy: 41.09%\n",
            "Epoch 20/20, Training Loss: 0.1834, Validation Loss: 1.3258, Training Accuracy: 94.14%, Validation Accuracy: 41.13%\n",
            "Epoch 20/20, Training Loss: 0.1834, Validation Loss: 1.3878, Training Accuracy: 94.14%, Validation Accuracy: 41.05%\n",
            "Epoch 20/20, Training Loss: 0.1834, Validation Loss: 1.4415, Training Accuracy: 94.14%, Validation Accuracy: 41.19%\n",
            "Epoch 20/20, Training Loss: 0.1834, Validation Loss: 1.4975, Training Accuracy: 94.14%, Validation Accuracy: 41.29%\n",
            "Epoch 20/20, Training Loss: 0.1834, Validation Loss: 1.5711, Training Accuracy: 94.14%, Validation Accuracy: 41.20%\n",
            "Epoch 20/20, Training Loss: 0.1834, Validation Loss: 1.6363, Training Accuracy: 94.14%, Validation Accuracy: 41.32%\n",
            "Epoch 20/20, Training Loss: 0.1834, Validation Loss: 1.6903, Training Accuracy: 94.14%, Validation Accuracy: 41.38%\n",
            "Epoch 20/20, Training Loss: 0.1834, Validation Loss: 1.7524, Training Accuracy: 94.14%, Validation Accuracy: 41.43%\n",
            "Epoch 20/20, Training Loss: 0.1834, Validation Loss: 1.8153, Training Accuracy: 94.14%, Validation Accuracy: 41.15%\n",
            "Epoch 20/20, Training Loss: 0.1834, Validation Loss: 1.8739, Training Accuracy: 94.14%, Validation Accuracy: 41.09%\n",
            "Epoch 20/20, Training Loss: 0.1834, Validation Loss: 1.9374, Training Accuracy: 94.14%, Validation Accuracy: 40.93%\n",
            "Epoch 20/20, Training Loss: 0.1834, Validation Loss: 1.9848, Training Accuracy: 94.14%, Validation Accuracy: 41.18%\n",
            "Epoch 20/20, Training Loss: 0.1834, Validation Loss: 2.0487, Training Accuracy: 94.14%, Validation Accuracy: 40.98%\n",
            "Epoch 20/20, Training Loss: 0.1834, Validation Loss: 2.1102, Training Accuracy: 94.14%, Validation Accuracy: 40.76%\n",
            "Epoch 20/20, Training Loss: 0.1834, Validation Loss: 2.1706, Training Accuracy: 94.14%, Validation Accuracy: 40.84%\n",
            "Epoch 20/20, Training Loss: 0.1834, Validation Loss: 2.2246, Training Accuracy: 94.14%, Validation Accuracy: 40.83%\n",
            "Epoch 20/20, Training Loss: 0.1834, Validation Loss: 2.2682, Training Accuracy: 94.14%, Validation Accuracy: 41.07%\n",
            "Epoch 20/20, Training Loss: 0.1834, Validation Loss: 2.3200, Training Accuracy: 94.14%, Validation Accuracy: 41.07%\n",
            "Epoch 20/20, Training Loss: 0.1834, Validation Loss: 2.3906, Training Accuracy: 94.14%, Validation Accuracy: 40.72%\n",
            "Epoch 20/20, Training Loss: 0.1834, Validation Loss: 2.4412, Training Accuracy: 94.14%, Validation Accuracy: 40.87%\n",
            "Epoch 20/20, Training Loss: 0.1834, Validation Loss: 2.5026, Training Accuracy: 94.14%, Validation Accuracy: 40.64%\n",
            "Epoch 20/20, Training Loss: 0.1834, Validation Loss: 2.5667, Training Accuracy: 94.14%, Validation Accuracy: 40.61%\n",
            "Epoch 20/20, Training Loss: 0.1834, Validation Loss: 2.6259, Training Accuracy: 94.14%, Validation Accuracy: 40.71%\n",
            "Epoch 20/20, Training Loss: 0.1834, Validation Loss: 2.6837, Training Accuracy: 94.14%, Validation Accuracy: 40.81%\n",
            "Epoch 20/20, Training Loss: 0.1834, Validation Loss: 2.7393, Training Accuracy: 94.14%, Validation Accuracy: 40.81%\n",
            "Epoch 20/20, Training Loss: 0.1834, Validation Loss: 2.7941, Training Accuracy: 94.14%, Validation Accuracy: 40.85%\n",
            "Epoch 20/20, Training Loss: 0.1834, Validation Loss: 2.8479, Training Accuracy: 94.14%, Validation Accuracy: 40.80%\n",
            "Epoch 20/20, Training Loss: 0.1834, Validation Loss: 2.9054, Training Accuracy: 94.14%, Validation Accuracy: 40.81%\n",
            "Epoch 20/20, Training Loss: 0.1834, Validation Loss: 2.9629, Training Accuracy: 94.14%, Validation Accuracy: 40.87%\n",
            "Epoch 20/20, Training Loss: 0.1834, Validation Loss: 3.0253, Training Accuracy: 94.14%, Validation Accuracy: 40.76%\n",
            "Epoch 20/20, Training Loss: 0.1834, Validation Loss: 3.0841, Training Accuracy: 94.14%, Validation Accuracy: 40.64%\n",
            "Epoch 20/20, Training Loss: 0.1834, Validation Loss: 3.1387, Training Accuracy: 94.14%, Validation Accuracy: 40.64%\n",
            "Epoch 20/20, Training Loss: 0.1834, Validation Loss: 3.1896, Training Accuracy: 94.14%, Validation Accuracy: 40.74%\n",
            "Epoch 20/20, Training Loss: 0.1834, Validation Loss: 3.2482, Training Accuracy: 94.14%, Validation Accuracy: 40.69%\n",
            "Epoch 20/20, Training Loss: 0.1834, Validation Loss: 3.3041, Training Accuracy: 94.14%, Validation Accuracy: 40.73%\n",
            "Epoch 20/20, Training Loss: 0.1834, Validation Loss: 3.3676, Training Accuracy: 94.14%, Validation Accuracy: 40.72%\n",
            "Epoch 20/20, Training Loss: 0.1834, Validation Loss: 3.4149, Training Accuracy: 94.14%, Validation Accuracy: 40.81%\n",
            "Epoch 20/20, Training Loss: 0.1834, Validation Loss: 3.4729, Training Accuracy: 94.14%, Validation Accuracy: 40.72%\n",
            "Epoch 20/20, Training Loss: 0.1834, Validation Loss: 3.5311, Training Accuracy: 94.14%, Validation Accuracy: 40.68%\n",
            "Epoch 20/20, Training Loss: 0.1834, Validation Loss: 3.5893, Training Accuracy: 94.14%, Validation Accuracy: 40.64%\n",
            "Epoch 20/20, Training Loss: 0.1834, Validation Loss: 3.6391, Training Accuracy: 94.14%, Validation Accuracy: 40.72%\n",
            "Epoch 20/20, Training Loss: 0.1834, Validation Loss: 3.6887, Training Accuracy: 94.14%, Validation Accuracy: 40.78%\n",
            "Epoch 20/20, Training Loss: 0.1834, Validation Loss: 3.7443, Training Accuracy: 94.14%, Validation Accuracy: 40.82%\n",
            "Epoch 20/20, Training Loss: 0.1834, Validation Loss: 3.8076, Training Accuracy: 94.14%, Validation Accuracy: 40.77%\n",
            "Epoch 20/20, Training Loss: 0.1834, Validation Loss: 3.8793, Training Accuracy: 94.14%, Validation Accuracy: 40.75%\n",
            "Epoch 20/20, Training Loss: 0.1834, Validation Loss: 3.9399, Training Accuracy: 94.14%, Validation Accuracy: 40.72%\n",
            "Epoch 20/20, Training Loss: 0.1834, Validation Loss: 3.9944, Training Accuracy: 94.14%, Validation Accuracy: 40.75%\n",
            "Epoch 20/20, Training Loss: 0.1834, Validation Loss: 4.0486, Training Accuracy: 94.14%, Validation Accuracy: 40.81%\n",
            "Epoch 20/20, Training Loss: 0.1834, Validation Loss: 4.1095, Training Accuracy: 94.14%, Validation Accuracy: 40.79%\n",
            "Epoch 20/20, Training Loss: 0.1834, Validation Loss: 4.1619, Training Accuracy: 94.14%, Validation Accuracy: 40.83%\n",
            "Epoch 20/20, Training Loss: 0.1834, Validation Loss: 4.2221, Training Accuracy: 94.14%, Validation Accuracy: 40.77%\n",
            "Epoch 20/20, Training Loss: 0.1834, Validation Loss: 4.2789, Training Accuracy: 94.14%, Validation Accuracy: 40.79%\n",
            "Epoch 20/20, Training Loss: 0.1834, Validation Loss: 4.3394, Training Accuracy: 94.14%, Validation Accuracy: 40.86%\n",
            "Epoch 20/20, Training Loss: 0.1834, Validation Loss: 4.3917, Training Accuracy: 94.14%, Validation Accuracy: 40.90%\n",
            "Epoch 20/20, Training Loss: 0.1834, Validation Loss: 4.4481, Training Accuracy: 94.14%, Validation Accuracy: 40.90%\n",
            "Epoch 20/20, Training Loss: 0.1834, Validation Loss: 4.4985, Training Accuracy: 94.14%, Validation Accuracy: 40.89%\n",
            "Epoch 20/20, Training Loss: 0.1834, Validation Loss: 4.5325, Training Accuracy: 94.14%, Validation Accuracy: 40.92%\n"
          ]
        }
      ]
    },
    {
      "cell_type": "code",
      "source": [],
      "metadata": {
        "id": "1kpWyfaJyrLz"
      },
      "execution_count": null,
      "outputs": []
    },
    {
      "cell_type": "code",
      "source": [
        "import matplotlib.pyplot as plt\n",
        "\n",
        "plt.plot(train_losses, label='Training Loss')\n",
        "plt.plot(val_losses, label='Validation Loss')\n",
        "plt.legend()\n",
        "plt.show()\n",
        "\n",
        "plt.plot(train_accs, label='Training Accuracy')\n",
        "plt.plot(val_accs, label='Validation Accuracy')\n",
        "plt.legend()\n",
        "plt.show()"
      ],
      "metadata": {
        "colab": {
          "base_uri": "https://localhost:8080/",
          "height": 513
        },
        "id": "r6Wzj3c2oSnD",
        "outputId": "3355e622-bb63-4b0f-d788-09f640632f80"
      },
      "execution_count": null,
      "outputs": [
        {
          "output_type": "display_data",
          "data": {
            "text/plain": [
              "<Figure size 432x288 with 1 Axes>"
            ],
            "image/png": "[encoded data removed]"
          },
          "metadata": {
            "needs_background": "light"
          }
        },
        {
          "output_type": "display_data",
          "data": {
            "text/plain": [
              "<Figure size 432x288 with 1 Axes>"
            ],
            "image/png": "[encoded data removed]"
          },
          "metadata": {
            "needs_background": "light"
          }
        }
      ]
    },
    {
      "cell_type": "code",
      "source": [
        "optimizer = torch.optim.RMSprop(resnet.parameters(), lr=0.002, alpha=0.96, eps=1e-08, weight_decay=0.0, momentum=0.0, centered=False)"
      ],
      "metadata": {
        "id": "W6o71zqtSOtQ"
      },
      "execution_count": null,
      "outputs": []
    },
    {
      "cell_type": "code",
      "source": [
        "train_loader = torch.utils.data.DataLoader(train_dataset, batch_size=128, shuffle=True, num_workers=2)\n",
        "val_loader = torch.utils.data.DataLoader(val_dataset, batch_size=128, shuffle=False, num_workers=2)\n",
        "\n",
        "num_epochs = 20\n",
        "train_losses = []\n",
        "val_losses = []\n",
        "train_accs = []\n",
        "val_accs = []\n",
        "\n",
        "for epoch in range(num_epochs):\n",
        "    train_loss = 0.0\n",
        "    val_loss = 0.0\n",
        "    train_total = 0\n",
        "    val_total = 0\n",
        "    train_correct = 0\n",
        "    val_correct = 0\n",
        "    \n",
        "    resnet.train()\n",
        "    for i, data in enumerate(train_loader, 0):\n",
        "        inputs, labels = data[0].to(device), data[1].to(device)\n",
        "        optimizer.zero_grad()\n",
        "        outputs = resnet(inputs)\n",
        "        \n",
        "        loss = criterion(outputs, labels)\n",
        "        loss.backward()\n",
        "        optimizer.step()\n",
        "        train_loss += loss.item()\n",
        "        _, predicted = torch.max(outputs.data, 1)\n",
        "        train_total += labels.size(0)\n",
        "        train_correct += (predicted == labels).sum().item()\n",
        "        train_losses.append(train_loss/len(train_loader))\n",
        "        train_accs.append(train_correct/train_total)"
      ],
      "metadata": {
        "id": "cWtKaP98zKPj"
      },
      "execution_count": null,
      "outputs": []
    },
    {
      "cell_type": "code",
      "source": [
        "resnet.eval()\n",
        "with torch.no_grad():\n",
        "    for i, data in enumerate(val_loader, 0):\n",
        "        inputs, labels = data[0].to(device), data[1].to(device)\n",
        "        outputs = resnet(inputs)\n",
        "        loss = criterion(outputs, labels)\n",
        "        val_loss += loss.item()\n",
        "        _, predicted = torch.max(outputs.data, 1)\n",
        "        val_total += labels.size(0)\n",
        "        val_correct += (predicted == labels).sum().item()\n",
        "\n",
        "        epoch_train_loss = train_loss / len(train_loader)\n",
        "        epoch_val_loss = val_loss / len(val_loader)\n",
        "        epoch_train_acc = 100 * train_correct / train_total\n",
        "        epoch_val_acc = 100 * val_correct / val_total\n",
        "       \n",
        "        val_losses.append(epoch_val_loss)\n",
        "        \n",
        "        val_accs.append(epoch_val_acc)\n",
        "\n",
        "        print(f'Epoch {epoch+1}/{num_epochs}, '\n",
        "              f'Training Loss: {epoch_train_loss:.4f}, '\n",
        "              f'Validation Loss: {epoch_val_loss:.4f}, '\n",
        "              f'Training Accuracy: {epoch_train_acc:.2f}%, '\n",
        "              f'Validation Accuracy: {epoch_val_acc:.2f}%')\n"
      ],
      "metadata": {
        "colab": {
          "base_uri": "https://localhost:8080/"
        },
        "id": "Z4TsQ788zN1-",
        "outputId": "b283abdf-10a6-499d-bcba-809a7d15723d"
      },
      "execution_count": null,
      "outputs": [
        {
          "output_type": "stream",
          "name": "stdout",
          "text": [
            "Epoch 20/20, Training Loss: 0.2512, Validation Loss: 0.0371, Training Accuracy: 91.92%, Validation Accuracy: 53.91%\n",
            "Epoch 20/20, Training Loss: 0.2512, Validation Loss: 0.0722, Training Accuracy: 91.92%, Validation Accuracy: 56.25%\n",
            "Epoch 20/20, Training Loss: 0.2512, Validation Loss: 0.1163, Training Accuracy: 91.92%, Validation Accuracy: 53.91%\n",
            "Epoch 20/20, Training Loss: 0.2512, Validation Loss: 0.1594, Training Accuracy: 91.92%, Validation Accuracy: 51.37%\n",
            "Epoch 20/20, Training Loss: 0.2512, Validation Loss: 0.1971, Training Accuracy: 91.92%, Validation Accuracy: 51.72%\n",
            "Epoch 20/20, Training Loss: 0.2512, Validation Loss: 0.2327, Training Accuracy: 91.92%, Validation Accuracy: 52.47%\n",
            "Epoch 20/20, Training Loss: 0.2512, Validation Loss: 0.2823, Training Accuracy: 91.92%, Validation Accuracy: 52.01%\n",
            "Epoch 20/20, Training Loss: 0.2512, Validation Loss: 0.3235, Training Accuracy: 91.92%, Validation Accuracy: 51.76%\n",
            "Epoch 20/20, Training Loss: 0.2512, Validation Loss: 0.3623, Training Accuracy: 91.92%, Validation Accuracy: 51.48%\n",
            "Epoch 20/20, Training Loss: 0.2512, Validation Loss: 0.4091, Training Accuracy: 91.92%, Validation Accuracy: 51.25%\n",
            "Epoch 20/20, Training Loss: 0.2512, Validation Loss: 0.4480, Training Accuracy: 91.92%, Validation Accuracy: 51.85%\n",
            "Epoch 20/20, Training Loss: 0.2512, Validation Loss: 0.4983, Training Accuracy: 91.92%, Validation Accuracy: 51.63%\n",
            "Epoch 20/20, Training Loss: 0.2512, Validation Loss: 0.5391, Training Accuracy: 91.92%, Validation Accuracy: 51.74%\n",
            "Epoch 20/20, Training Loss: 0.2512, Validation Loss: 0.5796, Training Accuracy: 91.92%, Validation Accuracy: 51.62%\n",
            "Epoch 20/20, Training Loss: 0.2512, Validation Loss: 0.6076, Training Accuracy: 91.92%, Validation Accuracy: 52.19%\n",
            "Epoch 20/20, Training Loss: 0.2512, Validation Loss: 0.6441, Training Accuracy: 91.92%, Validation Accuracy: 52.44%\n",
            "Epoch 20/20, Training Loss: 0.2512, Validation Loss: 0.6759, Training Accuracy: 91.92%, Validation Accuracy: 52.94%\n",
            "Epoch 20/20, Training Loss: 0.2512, Validation Loss: 0.7138, Training Accuracy: 91.92%, Validation Accuracy: 52.95%\n",
            "Epoch 20/20, Training Loss: 0.2512, Validation Loss: 0.7456, Training Accuracy: 91.92%, Validation Accuracy: 53.41%\n",
            "Epoch 20/20, Training Loss: 0.2512, Validation Loss: 0.7786, Training Accuracy: 91.92%, Validation Accuracy: 53.67%\n",
            "Epoch 20/20, Training Loss: 0.2512, Validation Loss: 0.8111, Training Accuracy: 91.92%, Validation Accuracy: 53.65%\n",
            "Epoch 20/20, Training Loss: 0.2512, Validation Loss: 0.8551, Training Accuracy: 91.92%, Validation Accuracy: 53.34%\n",
            "Epoch 20/20, Training Loss: 0.2512, Validation Loss: 0.8965, Training Accuracy: 91.92%, Validation Accuracy: 53.09%\n",
            "Epoch 20/20, Training Loss: 0.2512, Validation Loss: 0.9440, Training Accuracy: 91.92%, Validation Accuracy: 52.83%\n",
            "Epoch 20/20, Training Loss: 0.2512, Validation Loss: 0.9781, Training Accuracy: 91.92%, Validation Accuracy: 52.97%\n",
            "Epoch 20/20, Training Loss: 0.2512, Validation Loss: 1.0202, Training Accuracy: 91.92%, Validation Accuracy: 53.12%\n",
            "Epoch 20/20, Training Loss: 0.2512, Validation Loss: 1.0695, Training Accuracy: 91.92%, Validation Accuracy: 53.12%\n",
            "Epoch 20/20, Training Loss: 0.2512, Validation Loss: 1.1135, Training Accuracy: 91.92%, Validation Accuracy: 52.93%\n",
            "Epoch 20/20, Training Loss: 0.2512, Validation Loss: 1.1424, Training Accuracy: 91.92%, Validation Accuracy: 53.21%\n",
            "Epoch 20/20, Training Loss: 0.2512, Validation Loss: 1.1853, Training Accuracy: 91.92%, Validation Accuracy: 53.07%\n",
            "Epoch 20/20, Training Loss: 0.2512, Validation Loss: 1.2294, Training Accuracy: 91.92%, Validation Accuracy: 53.02%\n",
            "Epoch 20/20, Training Loss: 0.2512, Validation Loss: 1.2677, Training Accuracy: 91.92%, Validation Accuracy: 53.10%\n",
            "Epoch 20/20, Training Loss: 0.2512, Validation Loss: 1.3178, Training Accuracy: 91.92%, Validation Accuracy: 52.89%\n",
            "Epoch 20/20, Training Loss: 0.2512, Validation Loss: 1.3583, Training Accuracy: 91.92%, Validation Accuracy: 52.83%\n",
            "Epoch 20/20, Training Loss: 0.2512, Validation Loss: 1.4073, Training Accuracy: 91.92%, Validation Accuracy: 52.66%\n",
            "Epoch 20/20, Training Loss: 0.2512, Validation Loss: 1.4517, Training Accuracy: 91.92%, Validation Accuracy: 52.65%\n",
            "Epoch 20/20, Training Loss: 0.2512, Validation Loss: 1.4898, Training Accuracy: 91.92%, Validation Accuracy: 52.66%\n",
            "Epoch 20/20, Training Loss: 0.2512, Validation Loss: 1.5321, Training Accuracy: 91.92%, Validation Accuracy: 52.63%\n",
            "Epoch 20/20, Training Loss: 0.2512, Validation Loss: 1.5654, Training Accuracy: 91.92%, Validation Accuracy: 52.82%\n",
            "Epoch 20/20, Training Loss: 0.2512, Validation Loss: 1.6107, Training Accuracy: 91.92%, Validation Accuracy: 52.79%\n",
            "Epoch 20/20, Training Loss: 0.2512, Validation Loss: 1.6598, Training Accuracy: 91.92%, Validation Accuracy: 52.63%\n",
            "Epoch 20/20, Training Loss: 0.2512, Validation Loss: 1.6961, Training Accuracy: 91.92%, Validation Accuracy: 52.86%\n",
            "Epoch 20/20, Training Loss: 0.2512, Validation Loss: 1.7337, Training Accuracy: 91.92%, Validation Accuracy: 52.76%\n",
            "Epoch 20/20, Training Loss: 0.2512, Validation Loss: 1.7825, Training Accuracy: 91.92%, Validation Accuracy: 52.61%\n",
            "Epoch 20/20, Training Loss: 0.2512, Validation Loss: 1.8245, Training Accuracy: 91.92%, Validation Accuracy: 52.62%\n",
            "Epoch 20/20, Training Loss: 0.2512, Validation Loss: 1.8613, Training Accuracy: 91.92%, Validation Accuracy: 52.77%\n",
            "Epoch 20/20, Training Loss: 0.2512, Validation Loss: 1.9019, Training Accuracy: 91.92%, Validation Accuracy: 52.78%\n",
            "Epoch 20/20, Training Loss: 0.2512, Validation Loss: 1.9358, Training Accuracy: 91.92%, Validation Accuracy: 52.78%\n",
            "Epoch 20/20, Training Loss: 0.2512, Validation Loss: 1.9796, Training Accuracy: 91.92%, Validation Accuracy: 52.77%\n",
            "Epoch 20/20, Training Loss: 0.2512, Validation Loss: 2.0244, Training Accuracy: 91.92%, Validation Accuracy: 52.69%\n",
            "Epoch 20/20, Training Loss: 0.2512, Validation Loss: 2.0641, Training Accuracy: 91.92%, Validation Accuracy: 52.62%\n",
            "Epoch 20/20, Training Loss: 0.2512, Validation Loss: 2.1061, Training Accuracy: 91.92%, Validation Accuracy: 52.51%\n",
            "Epoch 20/20, Training Loss: 0.2512, Validation Loss: 2.1437, Training Accuracy: 91.92%, Validation Accuracy: 52.49%\n",
            "Epoch 20/20, Training Loss: 0.2512, Validation Loss: 2.1824, Training Accuracy: 91.92%, Validation Accuracy: 52.47%\n",
            "Epoch 20/20, Training Loss: 0.2512, Validation Loss: 2.2194, Training Accuracy: 91.92%, Validation Accuracy: 52.49%\n",
            "Epoch 20/20, Training Loss: 0.2512, Validation Loss: 2.2531, Training Accuracy: 91.92%, Validation Accuracy: 52.48%\n",
            "Epoch 20/20, Training Loss: 0.2512, Validation Loss: 2.2858, Training Accuracy: 91.92%, Validation Accuracy: 52.55%\n",
            "Epoch 20/20, Training Loss: 0.2512, Validation Loss: 2.3289, Training Accuracy: 91.92%, Validation Accuracy: 52.48%\n",
            "Epoch 20/20, Training Loss: 0.2512, Validation Loss: 2.3619, Training Accuracy: 91.92%, Validation Accuracy: 52.57%\n",
            "Epoch 20/20, Training Loss: 0.2512, Validation Loss: 2.4077, Training Accuracy: 91.92%, Validation Accuracy: 52.49%\n",
            "Epoch 20/20, Training Loss: 0.2512, Validation Loss: 2.4479, Training Accuracy: 91.92%, Validation Accuracy: 52.42%\n",
            "Epoch 20/20, Training Loss: 0.2512, Validation Loss: 2.4900, Training Accuracy: 91.92%, Validation Accuracy: 52.42%\n",
            "Epoch 20/20, Training Loss: 0.2512, Validation Loss: 2.5293, Training Accuracy: 91.92%, Validation Accuracy: 52.38%\n",
            "Epoch 20/20, Training Loss: 0.2512, Validation Loss: 2.5636, Training Accuracy: 91.92%, Validation Accuracy: 52.36%\n",
            "Epoch 20/20, Training Loss: 0.2512, Validation Loss: 2.6068, Training Accuracy: 91.92%, Validation Accuracy: 52.32%\n",
            "Epoch 20/20, Training Loss: 0.2512, Validation Loss: 2.6461, Training Accuracy: 91.92%, Validation Accuracy: 52.34%\n",
            "Epoch 20/20, Training Loss: 0.2512, Validation Loss: 2.6945, Training Accuracy: 91.92%, Validation Accuracy: 52.22%\n",
            "Epoch 20/20, Training Loss: 0.2512, Validation Loss: 2.7403, Training Accuracy: 91.92%, Validation Accuracy: 52.14%\n",
            "Epoch 20/20, Training Loss: 0.2512, Validation Loss: 2.7761, Training Accuracy: 91.92%, Validation Accuracy: 52.15%\n",
            "Epoch 20/20, Training Loss: 0.2512, Validation Loss: 2.8090, Training Accuracy: 91.92%, Validation Accuracy: 52.11%\n",
            "Epoch 20/20, Training Loss: 0.2512, Validation Loss: 2.8553, Training Accuracy: 91.92%, Validation Accuracy: 52.02%\n",
            "Epoch 20/20, Training Loss: 0.2512, Validation Loss: 2.8932, Training Accuracy: 91.92%, Validation Accuracy: 52.11%\n",
            "Epoch 20/20, Training Loss: 0.2512, Validation Loss: 2.9270, Training Accuracy: 91.92%, Validation Accuracy: 52.16%\n",
            "Epoch 20/20, Training Loss: 0.2512, Validation Loss: 2.9732, Training Accuracy: 91.92%, Validation Accuracy: 52.03%\n",
            "Epoch 20/20, Training Loss: 0.2512, Validation Loss: 3.0131, Training Accuracy: 91.92%, Validation Accuracy: 52.00%\n",
            "Epoch 20/20, Training Loss: 0.2512, Validation Loss: 3.0544, Training Accuracy: 91.92%, Validation Accuracy: 52.05%\n",
            "Epoch 20/20, Training Loss: 0.2512, Validation Loss: 3.0924, Training Accuracy: 91.92%, Validation Accuracy: 52.06%\n",
            "Epoch 20/20, Training Loss: 0.2512, Validation Loss: 3.1289, Training Accuracy: 91.92%, Validation Accuracy: 52.11%\n",
            "Epoch 20/20, Training Loss: 0.2512, Validation Loss: 3.1468, Training Accuracy: 91.92%, Validation Accuracy: 52.13%\n"
          ]
        }
      ]
    },
    {
      "cell_type": "code",
      "source": [
        "import matplotlib.pyplot as plt\n",
        "\n",
        "plt.plot(train_losses, label='Training Loss')\n",
        "plt.plot(val_losses, label='Validation Loss')\n",
        "plt.legend()\n",
        "plt.show()\n",
        "\n",
        "plt.plot(train_accs, label='Training Accuracy')\n",
        "plt.plot(val_accs, label='Validation Accuracy')\n",
        "plt.legend()\n",
        "plt.show()"
      ],
      "metadata": {
        "colab": {
          "base_uri": "https://localhost:8080/",
          "height": 513
        },
        "id": "oCSRagzDzQkD",
        "outputId": "97b9a71c-313a-4599-fdab-2798353383bd"
      },
      "execution_count": null,
      "outputs": [
        {
          "output_type": "display_data",
          "data": {
            "text/plain": [
              "<Figure size 432x288 with 1 Axes>"
            ],
            "image/png": "[encoded data removed]"
          },
          "metadata": {
            "needs_background": "light"
          }
        },
        {
          "output_type": "display_data",
          "data": {
            "text/plain": [
              "<Figure size 432x288 with 1 Axes>"
            ],
            "image/png": "[encoded data removed]"
          },
          "metadata": {
            "needs_background": "light"
          }
        }
      ]
    }
  ]
}